{
 "cells": [
  {
   "cell_type": "markdown",
   "id": "ad10c629",
   "metadata": {},
   "source": [
    "# Udacity Nano-degree project 2"
   ]
  },
  {
   "cell_type": "markdown",
   "id": "616f882b",
   "metadata": {},
   "source": [
    "## Introduction: The \"We_rate_dogs\" Twitter account"
   ]
  },
  {
   "cell_type": "markdown",
   "id": "f153a677",
   "metadata": {},
   "source": [
    "WeRateDogs is a Twitter account that rates people's dogs with a humorous comment about the dog. These ratings almost always have a denominator of 10. The archive contains basic tweet data (tweet ID, timestamp, text, etc.) for all 5000+ of their tweets as they stood on August 1, 2017.I will be wrangling this dataset."
   ]
  },
  {
   "cell_type": "markdown",
   "id": "1df8aff1",
   "metadata": {},
   "source": [
    "### Step 1: Loading in the required packages"
   ]
  },
  {
   "cell_type": "code",
   "execution_count": 65,
   "id": "7959a98b",
   "metadata": {},
   "outputs": [],
   "source": [
    "import pandas as pd\n",
    "import numpy as np\n",
    "import requests\n",
    "import json\n",
    "import os\n",
    "import matplotlib.pyplot as plt\n",
    "%matplotlib inline\n",
    "import seaborn as sns\n",
    "import re"
   ]
  },
  {
   "cell_type": "code",
   "execution_count": 66,
   "id": "4a88379a",
   "metadata": {},
   "outputs": [],
   "source": [
    "# downloading the WeRateDogs Twitter archive data (twitter_archive_enhanced.csv)\n",
    "dogs_archive = pd.read_csv('C:/Users/HP/Downloads/twitter-archive-enhanced.csv')"
   ]
  },
  {
   "cell_type": "code",
   "execution_count": 67,
   "id": "3933b2ad",
   "metadata": {},
   "outputs": [
    {
     "data": {
      "text/html": [
       "<div>\n",
       "<style scoped>\n",
       "    .dataframe tbody tr th:only-of-type {\n",
       "        vertical-align: middle;\n",
       "    }\n",
       "\n",
       "    .dataframe tbody tr th {\n",
       "        vertical-align: top;\n",
       "    }\n",
       "\n",
       "    .dataframe thead th {\n",
       "        text-align: right;\n",
       "    }\n",
       "</style>\n",
       "<table border=\"1\" class=\"dataframe\">\n",
       "  <thead>\n",
       "    <tr style=\"text-align: right;\">\n",
       "      <th></th>\n",
       "      <th>tweet_id</th>\n",
       "      <th>in_reply_to_status_id</th>\n",
       "      <th>in_reply_to_user_id</th>\n",
       "      <th>timestamp</th>\n",
       "      <th>source</th>\n",
       "      <th>text</th>\n",
       "      <th>retweeted_status_id</th>\n",
       "      <th>retweeted_status_user_id</th>\n",
       "      <th>retweeted_status_timestamp</th>\n",
       "      <th>expanded_urls</th>\n",
       "      <th>rating_numerator</th>\n",
       "      <th>rating_denominator</th>\n",
       "      <th>name</th>\n",
       "      <th>doggo</th>\n",
       "      <th>floofer</th>\n",
       "      <th>pupper</th>\n",
       "      <th>puppo</th>\n",
       "    </tr>\n",
       "  </thead>\n",
       "  <tbody>\n",
       "    <tr>\n",
       "      <th>0</th>\n",
       "      <td>892420643555336193</td>\n",
       "      <td>NaN</td>\n",
       "      <td>NaN</td>\n",
       "      <td>2017-08-01 16:23:56 +0000</td>\n",
       "      <td>&lt;a href=\"http://twitter.com/download/iphone\" r...</td>\n",
       "      <td>This is Phineas. He's a mystical boy. Only eve...</td>\n",
       "      <td>NaN</td>\n",
       "      <td>NaN</td>\n",
       "      <td>NaN</td>\n",
       "      <td>https://twitter.com/dog_rates/status/892420643...</td>\n",
       "      <td>13</td>\n",
       "      <td>10</td>\n",
       "      <td>Phineas</td>\n",
       "      <td>None</td>\n",
       "      <td>None</td>\n",
       "      <td>None</td>\n",
       "      <td>None</td>\n",
       "    </tr>\n",
       "    <tr>\n",
       "      <th>1</th>\n",
       "      <td>892177421306343426</td>\n",
       "      <td>NaN</td>\n",
       "      <td>NaN</td>\n",
       "      <td>2017-08-01 00:17:27 +0000</td>\n",
       "      <td>&lt;a href=\"http://twitter.com/download/iphone\" r...</td>\n",
       "      <td>This is Tilly. She's just checking pup on you....</td>\n",
       "      <td>NaN</td>\n",
       "      <td>NaN</td>\n",
       "      <td>NaN</td>\n",
       "      <td>https://twitter.com/dog_rates/status/892177421...</td>\n",
       "      <td>13</td>\n",
       "      <td>10</td>\n",
       "      <td>Tilly</td>\n",
       "      <td>None</td>\n",
       "      <td>None</td>\n",
       "      <td>None</td>\n",
       "      <td>None</td>\n",
       "    </tr>\n",
       "  </tbody>\n",
       "</table>\n",
       "</div>"
      ],
      "text/plain": [
       "             tweet_id  in_reply_to_status_id  in_reply_to_user_id  \\\n",
       "0  892420643555336193                    NaN                  NaN   \n",
       "1  892177421306343426                    NaN                  NaN   \n",
       "\n",
       "                   timestamp  \\\n",
       "0  2017-08-01 16:23:56 +0000   \n",
       "1  2017-08-01 00:17:27 +0000   \n",
       "\n",
       "                                              source  \\\n",
       "0  <a href=\"http://twitter.com/download/iphone\" r...   \n",
       "1  <a href=\"http://twitter.com/download/iphone\" r...   \n",
       "\n",
       "                                                text  retweeted_status_id  \\\n",
       "0  This is Phineas. He's a mystical boy. Only eve...                  NaN   \n",
       "1  This is Tilly. She's just checking pup on you....                  NaN   \n",
       "\n",
       "   retweeted_status_user_id retweeted_status_timestamp  \\\n",
       "0                       NaN                        NaN   \n",
       "1                       NaN                        NaN   \n",
       "\n",
       "                                       expanded_urls  rating_numerator  \\\n",
       "0  https://twitter.com/dog_rates/status/892420643...                13   \n",
       "1  https://twitter.com/dog_rates/status/892177421...                13   \n",
       "\n",
       "   rating_denominator     name doggo floofer pupper puppo  \n",
       "0                  10  Phineas  None    None   None  None  \n",
       "1                  10    Tilly  None    None   None  None  "
      ]
     },
     "execution_count": 67,
     "metadata": {},
     "output_type": "execute_result"
    }
   ],
   "source": [
    "#Let's take a glance at the top rows of the dataset\n",
    "dogs_archive.head(2)"
   ]
  },
  {
   "cell_type": "code",
   "execution_count": 68,
   "id": "ffdce3b0",
   "metadata": {},
   "outputs": [
    {
     "data": {
      "text/plain": [
       "(2356, 17)"
      ]
     },
     "execution_count": 68,
     "metadata": {},
     "output_type": "execute_result"
    }
   ],
   "source": [
    "dogs_archive.shape"
   ]
  },
  {
   "cell_type": "code",
   "execution_count": 69,
   "id": "077a4588",
   "metadata": {},
   "outputs": [
    {
     "name": "stdout",
     "output_type": "stream",
     "text": [
      "200\n"
     ]
    }
   ],
   "source": [
    "# I will now programmatically download the dog image prediction files, using the Requests library, with the provided url\n",
    "url = \"https://d17h27t6h515a5.cloudfront.net/topher/2017/August/599fd2ad_image-predictions/image-predictions.tsv\"\n",
    "response = requests.get(url)\n",
    "print(response.status_code)"
   ]
  },
  {
   "cell_type": "code",
   "execution_count": 70,
   "id": "667bfe49",
   "metadata": {},
   "outputs": [
    {
     "name": "stdout",
     "output_type": "stream",
     "text": [
      "Path is non-existent!\n"
     ]
    }
   ],
   "source": [
    "# I will now create a new directory, where I will save the tsv file above, using the os.mkdir() function of the OS library\n",
    "if os.path.exists(\"dogs/\") is False:\n",
    "    os.mkdir(\"dogs/\")\n",
    "else:\n",
    "    print(\"Path is non-existent!\")"
   ]
  },
  {
   "cell_type": "code",
   "execution_count": 71,
   "id": "fae6b5ab",
   "metadata": {},
   "outputs": [
    {
     "data": {
      "text/plain": [
       "['image-predictions.tsv']"
      ]
     },
     "execution_count": 71,
     "metadata": {},
     "output_type": "execute_result"
    }
   ],
   "source": [
    "#fantastic! Now, I shall save/write the tsv file into the directory\n",
    "with open(os.path.join(\"dogs/\", url.split(\"/\")[-1]), mode=\"wb\") as file:\n",
    "    file.write(response.content)\n",
    "\n",
    "# I will now check to see if the file has been saved in my directory\n",
    "os.listdir(\"dogs/\")"
   ]
  },
  {
   "cell_type": "code",
   "execution_count": 72,
   "id": "d698c197",
   "metadata": {},
   "outputs": [],
   "source": [
    "#The next sub-step is to read the file in my new directory into a dataframe, which I will call 'df_predictions'\n",
    "df_predictions = pd.read_csv('dogs/image-predictions.tsv', sep = '\\t')"
   ]
  },
  {
   "cell_type": "code",
   "execution_count": 73,
   "id": "8071c240",
   "metadata": {},
   "outputs": [
    {
     "data": {
      "text/html": [
       "<div>\n",
       "<style scoped>\n",
       "    .dataframe tbody tr th:only-of-type {\n",
       "        vertical-align: middle;\n",
       "    }\n",
       "\n",
       "    .dataframe tbody tr th {\n",
       "        vertical-align: top;\n",
       "    }\n",
       "\n",
       "    .dataframe thead th {\n",
       "        text-align: right;\n",
       "    }\n",
       "</style>\n",
       "<table border=\"1\" class=\"dataframe\">\n",
       "  <thead>\n",
       "    <tr style=\"text-align: right;\">\n",
       "      <th></th>\n",
       "      <th>tweet_id</th>\n",
       "      <th>jpg_url</th>\n",
       "      <th>img_num</th>\n",
       "      <th>p1</th>\n",
       "      <th>p1_conf</th>\n",
       "      <th>p1_dog</th>\n",
       "      <th>p2</th>\n",
       "      <th>p2_conf</th>\n",
       "      <th>p2_dog</th>\n",
       "      <th>p3</th>\n",
       "      <th>p3_conf</th>\n",
       "      <th>p3_dog</th>\n",
       "    </tr>\n",
       "  </thead>\n",
       "  <tbody>\n",
       "    <tr>\n",
       "      <th>0</th>\n",
       "      <td>666020888022790149</td>\n",
       "      <td>https://pbs.twimg.com/media/CT4udn0WwAA0aMy.jpg</td>\n",
       "      <td>1</td>\n",
       "      <td>Welsh_springer_spaniel</td>\n",
       "      <td>0.465074</td>\n",
       "      <td>True</td>\n",
       "      <td>collie</td>\n",
       "      <td>0.156665</td>\n",
       "      <td>True</td>\n",
       "      <td>Shetland_sheepdog</td>\n",
       "      <td>0.061428</td>\n",
       "      <td>True</td>\n",
       "    </tr>\n",
       "    <tr>\n",
       "      <th>1</th>\n",
       "      <td>666029285002620928</td>\n",
       "      <td>https://pbs.twimg.com/media/CT42GRgUYAA5iDo.jpg</td>\n",
       "      <td>1</td>\n",
       "      <td>redbone</td>\n",
       "      <td>0.506826</td>\n",
       "      <td>True</td>\n",
       "      <td>miniature_pinscher</td>\n",
       "      <td>0.074192</td>\n",
       "      <td>True</td>\n",
       "      <td>Rhodesian_ridgeback</td>\n",
       "      <td>0.072010</td>\n",
       "      <td>True</td>\n",
       "    </tr>\n",
       "  </tbody>\n",
       "</table>\n",
       "</div>"
      ],
      "text/plain": [
       "             tweet_id                                          jpg_url  \\\n",
       "0  666020888022790149  https://pbs.twimg.com/media/CT4udn0WwAA0aMy.jpg   \n",
       "1  666029285002620928  https://pbs.twimg.com/media/CT42GRgUYAA5iDo.jpg   \n",
       "\n",
       "   img_num                      p1   p1_conf  p1_dog                  p2  \\\n",
       "0        1  Welsh_springer_spaniel  0.465074    True              collie   \n",
       "1        1                 redbone  0.506826    True  miniature_pinscher   \n",
       "\n",
       "    p2_conf  p2_dog                   p3   p3_conf  p3_dog  \n",
       "0  0.156665    True    Shetland_sheepdog  0.061428    True  \n",
       "1  0.074192    True  Rhodesian_ridgeback  0.072010    True  "
      ]
     },
     "execution_count": 73,
     "metadata": {},
     "output_type": "execute_result"
    }
   ],
   "source": [
    "df_predictions.head(2)"
   ]
  },
  {
   "cell_type": "code",
   "execution_count": 74,
   "id": "6e4beffb",
   "metadata": {},
   "outputs": [],
   "source": [
    "#The next sub-step is loading the json.txt file \n",
    "tweet_lines=[]\n",
    "with open('C:/Users/HP/Downloads/tweet-json.txt', 'r')as file:\n",
    "    for line in file:\n",
    "        data=json.loads(line)\n",
    "        tweet_lines.append(data)"
   ]
  },
  {
   "cell_type": "code",
   "execution_count": 75,
   "id": "c26f0cfe",
   "metadata": {},
   "outputs": [],
   "source": [
    "tweets_json = pd.DataFrame(tweet_lines, columns={'id', 'retweet_count', 'favorite_count'})"
   ]
  },
  {
   "cell_type": "code",
   "execution_count": 76,
   "id": "aa2207c7",
   "metadata": {},
   "outputs": [
    {
     "data": {
      "text/html": [
       "<div>\n",
       "<style scoped>\n",
       "    .dataframe tbody tr th:only-of-type {\n",
       "        vertical-align: middle;\n",
       "    }\n",
       "\n",
       "    .dataframe tbody tr th {\n",
       "        vertical-align: top;\n",
       "    }\n",
       "\n",
       "    .dataframe thead th {\n",
       "        text-align: right;\n",
       "    }\n",
       "</style>\n",
       "<table border=\"1\" class=\"dataframe\">\n",
       "  <thead>\n",
       "    <tr style=\"text-align: right;\">\n",
       "      <th></th>\n",
       "      <th>retweet_count</th>\n",
       "      <th>id</th>\n",
       "      <th>favorite_count</th>\n",
       "    </tr>\n",
       "  </thead>\n",
       "  <tbody>\n",
       "    <tr>\n",
       "      <th>0</th>\n",
       "      <td>8853</td>\n",
       "      <td>892420643555336193</td>\n",
       "      <td>39467</td>\n",
       "    </tr>\n",
       "    <tr>\n",
       "      <th>1</th>\n",
       "      <td>6514</td>\n",
       "      <td>892177421306343426</td>\n",
       "      <td>33819</td>\n",
       "    </tr>\n",
       "  </tbody>\n",
       "</table>\n",
       "</div>"
      ],
      "text/plain": [
       "   retweet_count                  id  favorite_count\n",
       "0           8853  892420643555336193           39467\n",
       "1           6514  892177421306343426           33819"
      ]
     },
     "execution_count": 76,
     "metadata": {},
     "output_type": "execute_result"
    }
   ],
   "source": [
    "tweets_json.head(2)"
   ]
  },
  {
   "cell_type": "markdown",
   "id": "a0802959",
   "metadata": {},
   "source": [
    "### Step 2: Programmatic and visual assessment"
   ]
  },
  {
   "cell_type": "code",
   "execution_count": 77,
   "id": "eaaf44b0",
   "metadata": {},
   "outputs": [
    {
     "name": "stdout",
     "output_type": "stream",
     "text": [
      "<class 'pandas.core.frame.DataFrame'>\n",
      "RangeIndex: 2356 entries, 0 to 2355\n",
      "Data columns (total 17 columns):\n",
      " #   Column                      Non-Null Count  Dtype  \n",
      "---  ------                      --------------  -----  \n",
      " 0   tweet_id                    2356 non-null   int64  \n",
      " 1   in_reply_to_status_id       78 non-null     float64\n",
      " 2   in_reply_to_user_id         78 non-null     float64\n",
      " 3   timestamp                   2356 non-null   object \n",
      " 4   source                      2356 non-null   object \n",
      " 5   text                        2356 non-null   object \n",
      " 6   retweeted_status_id         181 non-null    float64\n",
      " 7   retweeted_status_user_id    181 non-null    float64\n",
      " 8   retweeted_status_timestamp  181 non-null    object \n",
      " 9   expanded_urls               2297 non-null   object \n",
      " 10  rating_numerator            2356 non-null   int64  \n",
      " 11  rating_denominator          2356 non-null   int64  \n",
      " 12  name                        2356 non-null   object \n",
      " 13  doggo                       2356 non-null   object \n",
      " 14  floofer                     2356 non-null   object \n",
      " 15  pupper                      2356 non-null   object \n",
      " 16  puppo                       2356 non-null   object \n",
      "dtypes: float64(4), int64(3), object(10)\n",
      "memory usage: 313.0+ KB\n"
     ]
    }
   ],
   "source": [
    "#Let's start off by looking at dogs_archive dataframe\n",
    "dogs_archive.info()"
   ]
  },
  {
   "cell_type": "code",
   "execution_count": 78,
   "id": "6afc0f42",
   "metadata": {},
   "outputs": [
    {
     "data": {
      "text/plain": [
       "0"
      ]
     },
     "execution_count": 78,
     "metadata": {},
     "output_type": "execute_result"
    }
   ],
   "source": [
    "#Checking for duplicate values\n",
    "sum(dogs_archive.duplicated())"
   ]
  },
  {
   "cell_type": "code",
   "execution_count": 79,
   "id": "46b67438",
   "metadata": {},
   "outputs": [
    {
     "data": {
      "text/plain": [
       "None          745\n",
       "a              55\n",
       "Charlie        12\n",
       "Cooper         11\n",
       "Lucy           11\n",
       "             ... \n",
       "Dex             1\n",
       "Ace             1\n",
       "Tayzie          1\n",
       "Grizzie         1\n",
       "Christoper      1\n",
       "Name: name, Length: 957, dtype: int64"
      ]
     },
     "execution_count": 79,
     "metadata": {},
     "output_type": "execute_result"
    }
   ],
   "source": [
    "#Checking the names and frequency count of each value\n",
    "dogs_archive.name.value_counts()"
   ]
  },
  {
   "cell_type": "code",
   "execution_count": 80,
   "id": "313e09f3",
   "metadata": {},
   "outputs": [
    {
     "data": {
      "text/plain": [
       "array(['Phineas', 'Tilly', 'Archie', 'Darla', 'Franklin', 'None', 'Jax',\n",
       "       'Zoey', 'Cassie', 'Koda', 'Bruno', 'Ted', 'Stuart', 'Oliver',\n",
       "       'Jim', 'Zeke', 'Ralphus', 'Canela', 'Gerald', 'Jeffrey', 'such',\n",
       "       'Maya', 'Mingus', 'Derek', 'Roscoe', 'Waffles', 'Jimbo', 'Maisey',\n",
       "       'Lilly', 'Earl', 'Lola', 'Kevin', 'Yogi', 'Noah', 'Bella',\n",
       "       'Grizzwald', 'Rusty', 'Gus', 'Stanley', 'Alfy', 'Koko', 'Rey',\n",
       "       'Gary', 'a', 'Elliot', 'Louis', 'Jesse', 'Romeo', 'Bailey',\n",
       "       'Duddles', 'Jack', 'Emmy', 'Steven', 'Beau', 'Snoopy', 'Shadow',\n",
       "       'Terrance', 'Aja', 'Penny', 'Dante', 'Nelly', 'Ginger', 'Benedict',\n",
       "       'Venti', 'Goose', 'Nugget', 'Cash', 'Coco', 'Jed', 'Sebastian',\n",
       "       'Walter', 'Sierra', 'Monkey', 'Harry', 'Kody', 'Lassie', 'Rover',\n",
       "       'Napolean', 'Dawn', 'Boomer', 'Cody', 'Rumble', 'Clifford',\n",
       "       'quite', 'Dewey', 'Scout', 'Gizmo', 'Cooper', 'Harold', 'Shikha',\n",
       "       'Jamesy', 'Lili', 'Sammy', 'Meatball', 'Paisley', 'Albus',\n",
       "       'Neptune', 'Quinn', 'Belle', 'Zooey', 'Dave', 'Jersey', 'Hobbes',\n",
       "       'Burt', 'Lorenzo', 'Carl', 'Jordy', 'Milky', 'Trooper', 'Winston',\n",
       "       'Sophie', 'Wyatt', 'Rosie', 'Thor', 'Oscar', 'Luna', 'Callie',\n",
       "       'Cermet', 'George', 'Marlee', 'Arya', 'Einstein', 'Alice',\n",
       "       'Rumpole', 'Benny', 'Aspen', 'Jarod', 'Wiggles', 'General',\n",
       "       'Sailor', 'Astrid', 'Iggy', 'Snoop', 'Kyle', 'Leo', 'Riley',\n",
       "       'Gidget', 'Noosh', 'Odin', 'Jerry', 'Charlie', 'Georgie', 'Rontu',\n",
       "       'Cannon', 'Furzey', 'Daisy', 'Tuck', 'Barney', 'Vixen', 'Jarvis',\n",
       "       'Mimosa', 'Pickles', 'Bungalo', 'Brady', 'Margo', 'Sadie', 'Hank',\n",
       "       'Tycho', 'Stephan', 'Indie', 'Winnie', 'Bentley', 'Ken', 'Max',\n",
       "       'Maddie', 'Pipsy', 'Monty', 'Sojourner', 'Odie', 'Arlo', 'Sunny',\n",
       "       'Vincent', 'Lucy', 'Clark', 'Mookie', 'Meera', 'Buddy', 'Ava',\n",
       "       'Rory', 'Eli', 'Ash', 'Tucker', 'Tobi', 'Chester', 'Wilson',\n",
       "       'Sunshine', 'Lipton', 'Gabby', 'Bronte', 'Poppy', 'Rhino',\n",
       "       'Willow', 'not', 'Orion', 'Eevee', 'Smiley', 'Logan', 'Moreton',\n",
       "       'Klein', 'Miguel', 'Emanuel', 'Kuyu', 'Dutch', 'Pete', 'Scooter',\n",
       "       'Reggie', 'Kyro', 'Samson', 'Loki', 'Mia', 'Malcolm', 'Dexter',\n",
       "       'Alfie', 'Fiona', 'one', 'Mutt', 'Bear', 'Doobert', 'Beebop',\n",
       "       'Alexander', 'Sailer', 'Brutus', 'Kona', 'Boots', 'Ralphie',\n",
       "       'Phil', 'Cupid', 'Pawnd', 'Pilot', 'Ike', 'Mo', 'Toby', 'Sweet',\n",
       "       'Pablo', 'Nala', 'Balto', 'Crawford', 'Gabe', 'Mattie', 'Jimison',\n",
       "       'Hercules', 'Duchess', 'Harlso', 'Sampson', 'Sundance', 'Luca',\n",
       "       'Flash', 'Finn', 'Peaches', 'Howie', 'Jazzy', 'Anna', 'Bo',\n",
       "       'Seamus', 'Wafer', 'Chelsea', 'Tom', 'Moose', 'Florence', 'Autumn',\n",
       "       'Dido', 'Eugene', 'Herschel', 'Strudel', 'Tebow', 'Chloe', 'Betty',\n",
       "       'Timber', 'Binky', 'Dudley', 'Comet', 'Larry', 'Levi', 'Akumi',\n",
       "       'Titan', 'Olivia', 'Alf', 'Oshie', 'Bruce', 'Chubbs', 'Sky',\n",
       "       'Atlas', 'Eleanor', 'Layla', 'Rocky', 'Baron', 'Tyr', 'Bauer',\n",
       "       'Swagger', 'Brandi', 'Mary', 'Moe', 'Halo', 'Augie', 'Craig',\n",
       "       'Sam', 'Hunter', 'Pavlov', 'Maximus', 'Wallace', 'Ito', 'Milo',\n",
       "       'Ollie', 'Cali', 'Lennon', 'incredibly', 'Major', 'Duke',\n",
       "       'Reginald', 'Sansa', 'Shooter', 'Django', 'Diogi', 'Sonny',\n",
       "       'Philbert', 'Marley', 'Severus', 'Ronnie', 'Anakin', 'Bones',\n",
       "       'Mauve', 'Chef', 'Doc', 'Sobe', 'Longfellow', 'Mister', 'Iroh',\n",
       "       'Baloo', 'Stubert', 'Paull', 'Timison', 'Davey', 'Pancake',\n",
       "       'Tyrone', 'Snicku', 'Ruby', 'Brody', 'Rizzy', 'Mack', 'Butter',\n",
       "       'Nimbus', 'Laika', 'Dobby', 'Juno', 'Maude', 'Lily', 'Newt',\n",
       "       'Benji', 'Nida', 'Robin', 'Monster', 'BeBe', 'Remus', 'Mabel',\n",
       "       'Misty', 'Happy', 'Mosby', 'Maggie', 'Leela', 'Ralphy', 'Brownie',\n",
       "       'Meyer', 'Stella', 'mad', 'Frank', 'Tonks', 'Lincoln', 'Oakley',\n",
       "       'Dale', 'Rizzo', 'Arnie', 'Pinot', 'Dallas', 'Hero', 'Frankie',\n",
       "       'Stormy', 'Mairi', 'Loomis', 'Godi', 'Kenny', 'Deacon', 'Timmy',\n",
       "       'Harper', 'Chipson', 'Combo', 'Dash', 'Bell', 'Hurley', 'Jay',\n",
       "       'Mya', 'Strider', 'an', 'Wesley', 'Solomon', 'Huck', 'very', 'O',\n",
       "       'Blue', 'Finley', 'Sprinkles', 'Heinrich', 'Shakespeare', 'Fizz',\n",
       "       'Chip', 'Grey', 'Roosevelt', 'Gromit', 'Willem', 'Dakota', 'Dixie',\n",
       "       'Al', 'Jackson', 'just', 'Carbon', 'DonDon', 'Kirby', 'Lou',\n",
       "       'Nollie', 'Chevy', 'Tito', 'Louie', 'Rupert', 'Rufus', 'Brudge',\n",
       "       'Shadoe', 'Colby', 'Angel', 'Brat', 'Tove', 'my', 'Aubie', 'Kota',\n",
       "       'Eve', 'Glenn', 'Shelby', 'Sephie', 'Bonaparte', 'Albert',\n",
       "       'Wishes', 'Rose', 'Theo', 'Rocco', 'Fido', 'Emma', 'Spencer',\n",
       "       'Lilli', 'Boston', 'Brandonald', 'Corey', 'Leonard', 'Chompsky',\n",
       "       'Beckham', 'Devón', 'Gert', 'Watson', 'Rubio', 'Keith', 'Dex',\n",
       "       'Carly', 'Ace', 'Tayzie', 'Grizzie', 'Fred', 'Gilbert', 'Zoe',\n",
       "       'Stewie', 'Calvin', 'Lilah', 'Spanky', 'Jameson', 'Piper',\n",
       "       'Atticus', 'Blu', 'Dietrich', 'Divine', 'Tripp', 'his', 'Cora',\n",
       "       'Huxley', 'Keurig', 'Bookstore', 'Linus', 'Abby', 'Shaggy',\n",
       "       'Shiloh', 'Gustav', 'Arlen', 'Percy', 'Lenox', 'Sugar', 'Harvey',\n",
       "       'Blanket', 'actually', 'Geno', 'Stark', 'Beya', 'Kilo', 'Kayla',\n",
       "       'Maxaroni', 'Doug', 'Edmund', 'Aqua', 'Theodore', 'Chase',\n",
       "       'getting', 'Rorie', 'Simba', 'Charles', 'Bayley', 'Axel',\n",
       "       'Storkson', 'Remy', 'Chadrick', 'Kellogg', 'Buckley', 'Livvie',\n",
       "       'Terry', 'Hermione', 'Ralpher', 'Aldrick', 'this', 'unacceptable',\n",
       "       'Rooney', 'Crystal', 'Ziva', 'Stefan', 'Pupcasso', 'Puff',\n",
       "       'Flurpson', 'Coleman', 'Enchilada', 'Raymond', 'all', 'Rueben',\n",
       "       'Cilantro', 'Karll', 'Sprout', 'Blitz', 'Bloop', 'Lillie',\n",
       "       'Ashleigh', 'Kreggory', 'Sarge', 'Luther', 'Ivar', 'Jangle',\n",
       "       'Schnitzel', 'Panda', 'Berkeley', 'Ralphé', 'Charleson', 'Clyde',\n",
       "       'Harnold', 'Sid', 'Pippa', 'Otis', 'Carper', 'Bowie',\n",
       "       'Alexanderson', 'Suki', 'Barclay', 'Skittle', 'Ebby', 'Flávio',\n",
       "       'Smokey', 'Link', 'Jennifur', 'Ozzy', 'Bluebert', 'Stephanus',\n",
       "       'Bubbles', 'old', 'Zeus', 'Bertson', 'Nico', 'Michelangelope',\n",
       "       'Siba', 'Calbert', 'Curtis', 'Travis', 'Thumas', 'Kanu', 'Lance',\n",
       "       'Opie', 'Kane', 'Olive', 'Chuckles', 'Staniel', 'Sora', 'Beemo',\n",
       "       'Gunner', 'infuriating', 'Lacy', 'Tater', 'Olaf', 'Cecil', 'Vince',\n",
       "       'Karma', 'Billy', 'Walker', 'Rodney', 'Klevin', 'Malikai',\n",
       "       'Bobble', 'River', 'Jebberson', 'Remington', 'Farfle', 'Jiminus',\n",
       "       'Clarkus', 'Finnegus', 'Cupcake', 'Kathmandu', 'Ellie', 'Katie',\n",
       "       'Kara', 'Adele', 'Zara', 'Ambrose', 'Jimothy', 'Bode', 'Terrenth',\n",
       "       'Reese', 'Chesterson', 'Lucia', 'Bisquick', 'Ralphson', 'Socks',\n",
       "       'Rambo', 'Rudy', 'Fiji', 'Rilo', 'Bilbo', 'Coopson', 'Yoda',\n",
       "       'Millie', 'Chet', 'Crouton', 'Daniel', 'Kaia', 'Murphy', 'Dotsy',\n",
       "       'Eazy', 'Coops', 'Fillup', 'Miley', 'Charl', 'Reagan', 'Yukon',\n",
       "       'CeCe', 'Cuddles', 'Claude', 'Jessiga', 'Carter', 'Ole', 'Pherb',\n",
       "       'Blipson', 'Reptar', 'Trevith', 'Berb', 'Bob', 'Colin', 'Brian',\n",
       "       'Oliviér', 'Grady', 'Kobe', 'Freddery', 'Bodie', 'Dunkin', 'Wally',\n",
       "       'Tupawc', 'Amber', 'Edgar', 'Teddy', 'Kingsley', 'Brockly',\n",
       "       'Richie', 'Molly', 'Vinscent', 'Cedrick', 'Hazel', 'Lolo', 'Eriq',\n",
       "       'Phred', 'the', 'Oddie', 'Maxwell', 'Geoff', 'Covach', 'Durg',\n",
       "       'Fynn', 'Ricky', 'Herald', 'Lucky', 'Ferg', 'Trip', 'Clarence',\n",
       "       'Hamrick', 'Brad', 'Pubert', 'Frönq', 'Derby', 'Lizzie', 'Ember',\n",
       "       'Blakely', 'Opal', 'Marq', 'Kramer', 'Barry', 'Gordon', 'Baxter',\n",
       "       'Mona', 'Horace', 'Crimson', 'Birf', 'Hammond', 'Lorelei', 'Marty',\n",
       "       'Brooks', 'Petrick', 'Hubertson', 'Gerbald', 'Oreo', 'Bruiser',\n",
       "       'Perry', 'Bobby', 'Jeph', 'Obi', 'Tino', 'Kulet', 'Sweets', 'Lupe',\n",
       "       'Tiger', 'Jiminy', 'Griffin', 'Banjo', 'Brandy', 'Lulu', 'Darrel',\n",
       "       'Taco', 'Joey', 'Patrick', 'Kreg', 'Todo', 'Tess', 'Ulysses',\n",
       "       'Toffee', 'Apollo', 'Asher', 'Glacier', 'Chuck', 'Champ', 'Ozzie',\n",
       "       'Griswold', 'Cheesy', 'Moofasa', 'Hector', 'Goliath', 'Kawhi',\n",
       "       'by', 'Emmie', 'Penelope', 'Willie', 'Rinna', 'Mike', 'William',\n",
       "       'Dwight', 'Evy', 'officially', 'Rascal', 'Linda', 'Tug', 'Tango',\n",
       "       'Grizz', 'Jerome', 'Crumpet', 'Jessifer', 'Izzy', 'Ralph', 'Sandy',\n",
       "       'Humphrey', 'Tassy', 'Juckson', 'Chuq', 'Tyrus', 'Karl',\n",
       "       'Godzilla', 'Vinnie', 'Kenneth', 'Herm', 'Bert', 'Striker',\n",
       "       'Donny', 'Pepper', 'Bernie', 'Buddah', 'Lenny', 'Arnold', 'Zuzu',\n",
       "       'Mollie', 'Laela', 'Tedders', 'Superpup', 'Rufio', 'Jeb', 'Rodman',\n",
       "       'Jonah', 'Chesney', 'life', 'Henry', 'Bobbay', 'Mitch', 'Kaiya',\n",
       "       'Acro', 'Aiden', 'Obie', 'Dot', 'Shnuggles', 'Kendall', 'Jeffri',\n",
       "       'Steve', 'Mac', 'Fletcher', 'Kenzie', 'Pumpkin', 'Schnozz',\n",
       "       'Gustaf', 'Cheryl', 'Ed', 'Leonidas', 'Norman', 'Caryl', 'Scott',\n",
       "       'Taz', 'Darby', 'Jackie', 'light', 'Jazz', 'Franq', 'Pippin',\n",
       "       'Rolf', 'Snickers', 'Ridley', 'Cal', 'Bradley', 'Bubba', 'Tuco',\n",
       "       'Patch', 'Mojo', 'Batdog', 'Dylan', 'space', 'Mark', 'JD',\n",
       "       'Alejandro', 'Scruffers', 'Pip', 'Julius', 'Tanner', 'Sparky',\n",
       "       'Anthony', 'Holly', 'Jett', 'Amy', 'Sage', 'Andy', 'Mason',\n",
       "       'Trigger', 'Antony', 'Creg', 'Traviss', 'Gin', 'Jeffrie', 'Danny',\n",
       "       'Ester', 'Pluto', 'Bloo', 'Edd', 'Willy', 'Herb', 'Damon',\n",
       "       'Peanut', 'Nigel', 'Butters', 'Sandra', 'Fabio', 'Randall', 'Liam',\n",
       "       'Tommy', 'Ben', 'Raphael', 'Julio', 'Andru', 'Kloey', 'Shawwn',\n",
       "       'Skye', 'Kollin', 'Ronduh', 'Billl', 'Saydee', 'Dug', 'Tessa',\n",
       "       'Sully', 'Kirk', 'Ralf', 'Clarq', 'Jaspers', 'Samsom', 'Harrison',\n",
       "       'Chaz', 'Jeremy', 'Jaycob', 'Lambeau', 'Ruffles', 'Amélie', 'Bobb',\n",
       "       'Banditt', 'Kevon', 'Winifred', 'Hanz', 'Churlie', 'Zeek',\n",
       "       'Timofy', 'Maks', 'Jomathan', 'Kallie', 'Marvin', 'Spark',\n",
       "       'Gòrdón', 'Jo', 'DayZ', 'Jareld', 'Torque', 'Ron', 'Skittles',\n",
       "       'Cleopatricia', 'Erik', 'Stu', 'Tedrick', 'Filup', 'Kial',\n",
       "       'Naphaniel', 'Dook', 'Hall', 'Philippe', 'Biden', 'Fwed',\n",
       "       'Genevieve', 'Joshwa', 'Bradlay', 'Clybe', 'Keet', 'Carll',\n",
       "       'Jockson', 'Josep', 'Lugan', 'Christoper'], dtype=object)"
      ]
     },
     "execution_count": 80,
     "metadata": {},
     "output_type": "execute_result"
    }
   ],
   "source": [
    "dogs_archive.name.unique()"
   ]
  },
  {
   "cell_type": "code",
   "execution_count": 81,
   "id": "ab579ae2",
   "metadata": {},
   "outputs": [
    {
     "data": {
      "text/html": [
       "<div>\n",
       "<style scoped>\n",
       "    .dataframe tbody tr th:only-of-type {\n",
       "        vertical-align: middle;\n",
       "    }\n",
       "\n",
       "    .dataframe tbody tr th {\n",
       "        vertical-align: top;\n",
       "    }\n",
       "\n",
       "    .dataframe thead th {\n",
       "        text-align: right;\n",
       "    }\n",
       "</style>\n",
       "<table border=\"1\" class=\"dataframe\">\n",
       "  <thead>\n",
       "    <tr style=\"text-align: right;\">\n",
       "      <th></th>\n",
       "      <th>tweet_id</th>\n",
       "      <th>in_reply_to_status_id</th>\n",
       "      <th>in_reply_to_user_id</th>\n",
       "      <th>retweeted_status_id</th>\n",
       "      <th>retweeted_status_user_id</th>\n",
       "      <th>rating_numerator</th>\n",
       "      <th>rating_denominator</th>\n",
       "    </tr>\n",
       "  </thead>\n",
       "  <tbody>\n",
       "    <tr>\n",
       "      <th>count</th>\n",
       "      <td>2.356000e+03</td>\n",
       "      <td>7.800000e+01</td>\n",
       "      <td>7.800000e+01</td>\n",
       "      <td>1.810000e+02</td>\n",
       "      <td>1.810000e+02</td>\n",
       "      <td>2356.000000</td>\n",
       "      <td>2356.000000</td>\n",
       "    </tr>\n",
       "    <tr>\n",
       "      <th>mean</th>\n",
       "      <td>7.427716e+17</td>\n",
       "      <td>7.455079e+17</td>\n",
       "      <td>2.014171e+16</td>\n",
       "      <td>7.720400e+17</td>\n",
       "      <td>1.241698e+16</td>\n",
       "      <td>13.126486</td>\n",
       "      <td>10.455433</td>\n",
       "    </tr>\n",
       "    <tr>\n",
       "      <th>std</th>\n",
       "      <td>6.856705e+16</td>\n",
       "      <td>7.582492e+16</td>\n",
       "      <td>1.252797e+17</td>\n",
       "      <td>6.236928e+16</td>\n",
       "      <td>9.599254e+16</td>\n",
       "      <td>45.876648</td>\n",
       "      <td>6.745237</td>\n",
       "    </tr>\n",
       "    <tr>\n",
       "      <th>min</th>\n",
       "      <td>6.660209e+17</td>\n",
       "      <td>6.658147e+17</td>\n",
       "      <td>1.185634e+07</td>\n",
       "      <td>6.661041e+17</td>\n",
       "      <td>7.832140e+05</td>\n",
       "      <td>0.000000</td>\n",
       "      <td>0.000000</td>\n",
       "    </tr>\n",
       "    <tr>\n",
       "      <th>25%</th>\n",
       "      <td>6.783989e+17</td>\n",
       "      <td>6.757419e+17</td>\n",
       "      <td>3.086374e+08</td>\n",
       "      <td>7.186315e+17</td>\n",
       "      <td>4.196984e+09</td>\n",
       "      <td>10.000000</td>\n",
       "      <td>10.000000</td>\n",
       "    </tr>\n",
       "    <tr>\n",
       "      <th>50%</th>\n",
       "      <td>7.196279e+17</td>\n",
       "      <td>7.038708e+17</td>\n",
       "      <td>4.196984e+09</td>\n",
       "      <td>7.804657e+17</td>\n",
       "      <td>4.196984e+09</td>\n",
       "      <td>11.000000</td>\n",
       "      <td>10.000000</td>\n",
       "    </tr>\n",
       "    <tr>\n",
       "      <th>75%</th>\n",
       "      <td>7.993373e+17</td>\n",
       "      <td>8.257804e+17</td>\n",
       "      <td>4.196984e+09</td>\n",
       "      <td>8.203146e+17</td>\n",
       "      <td>4.196984e+09</td>\n",
       "      <td>12.000000</td>\n",
       "      <td>10.000000</td>\n",
       "    </tr>\n",
       "    <tr>\n",
       "      <th>max</th>\n",
       "      <td>8.924206e+17</td>\n",
       "      <td>8.862664e+17</td>\n",
       "      <td>8.405479e+17</td>\n",
       "      <td>8.874740e+17</td>\n",
       "      <td>7.874618e+17</td>\n",
       "      <td>1776.000000</td>\n",
       "      <td>170.000000</td>\n",
       "    </tr>\n",
       "  </tbody>\n",
       "</table>\n",
       "</div>"
      ],
      "text/plain": [
       "           tweet_id  in_reply_to_status_id  in_reply_to_user_id  \\\n",
       "count  2.356000e+03           7.800000e+01         7.800000e+01   \n",
       "mean   7.427716e+17           7.455079e+17         2.014171e+16   \n",
       "std    6.856705e+16           7.582492e+16         1.252797e+17   \n",
       "min    6.660209e+17           6.658147e+17         1.185634e+07   \n",
       "25%    6.783989e+17           6.757419e+17         3.086374e+08   \n",
       "50%    7.196279e+17           7.038708e+17         4.196984e+09   \n",
       "75%    7.993373e+17           8.257804e+17         4.196984e+09   \n",
       "max    8.924206e+17           8.862664e+17         8.405479e+17   \n",
       "\n",
       "       retweeted_status_id  retweeted_status_user_id  rating_numerator  \\\n",
       "count         1.810000e+02              1.810000e+02       2356.000000   \n",
       "mean          7.720400e+17              1.241698e+16         13.126486   \n",
       "std           6.236928e+16              9.599254e+16         45.876648   \n",
       "min           6.661041e+17              7.832140e+05          0.000000   \n",
       "25%           7.186315e+17              4.196984e+09         10.000000   \n",
       "50%           7.804657e+17              4.196984e+09         11.000000   \n",
       "75%           8.203146e+17              4.196984e+09         12.000000   \n",
       "max           8.874740e+17              7.874618e+17       1776.000000   \n",
       "\n",
       "       rating_denominator  \n",
       "count         2356.000000  \n",
       "mean            10.455433  \n",
       "std              6.745237  \n",
       "min              0.000000  \n",
       "25%             10.000000  \n",
       "50%             10.000000  \n",
       "75%             10.000000  \n",
       "max            170.000000  "
      ]
     },
     "execution_count": 81,
     "metadata": {},
     "output_type": "execute_result"
    }
   ],
   "source": [
    "#Let's have a closer look at the key indices of the dataset, by looking at the descriptive stats\n",
    "dogs_archive.describe()"
   ]
  },
  {
   "cell_type": "code",
   "execution_count": 82,
   "id": "4bf9c7f8",
   "metadata": {},
   "outputs": [
    {
     "data": {
      "text/plain": [
       "array([  13,   12,   14,    5,   17,   11,   10,  420,  666,    6,   15,\n",
       "        182,  960,    0,   75,    7,   84,    9,   24,    8,    1,   27,\n",
       "          3,    4,  165, 1776,  204,   50,   99,   80,   45,   60,   44,\n",
       "        143,  121,   20,   26,    2,  144,   88], dtype=int64)"
      ]
     },
     "execution_count": 82,
     "metadata": {},
     "output_type": "execute_result"
    }
   ],
   "source": [
    "dogs_archive.rating_numerator.unique()"
   ]
  },
  {
   "cell_type": "code",
   "execution_count": 83,
   "id": "fe59475c",
   "metadata": {},
   "outputs": [
    {
     "data": {
      "text/plain": [
       "array([ 10,   0,  15,  70,   7,  11, 150, 170,  20,  50,  90,  80,  40,\n",
       "       130, 110,  16, 120,   2], dtype=int64)"
      ]
     },
     "execution_count": 83,
     "metadata": {},
     "output_type": "execute_result"
    }
   ],
   "source": [
    "dogs_archive.rating_denominator.unique()"
   ]
  },
  {
   "cell_type": "code",
   "execution_count": 84,
   "id": "7ff11a04",
   "metadata": {},
   "outputs": [
    {
     "data": {
      "text/plain": [
       "12      558\n",
       "11      464\n",
       "10      461\n",
       "13      351\n",
       "9       158\n",
       "8       102\n",
       "7        55\n",
       "14       54\n",
       "5        37\n",
       "6        32\n",
       "3        19\n",
       "4        17\n",
       "2         9\n",
       "1         9\n",
       "75        2\n",
       "15        2\n",
       "420       2\n",
       "0         2\n",
       "80        1\n",
       "144       1\n",
       "17        1\n",
       "26        1\n",
       "20        1\n",
       "121       1\n",
       "143       1\n",
       "44        1\n",
       "60        1\n",
       "45        1\n",
       "50        1\n",
       "99        1\n",
       "204       1\n",
       "1776      1\n",
       "165       1\n",
       "666       1\n",
       "27        1\n",
       "182       1\n",
       "24        1\n",
       "960       1\n",
       "84        1\n",
       "88        1\n",
       "Name: rating_numerator, dtype: int64"
      ]
     },
     "execution_count": 84,
     "metadata": {},
     "output_type": "execute_result"
    }
   ],
   "source": [
    "dogs_archive.rating_numerator.value_counts()"
   ]
  },
  {
   "cell_type": "code",
   "execution_count": 85,
   "id": "5d225794",
   "metadata": {},
   "outputs": [
    {
     "data": {
      "text/plain": [
       "10     2333\n",
       "11        3\n",
       "50        3\n",
       "20        2\n",
       "80        2\n",
       "70        1\n",
       "7         1\n",
       "15        1\n",
       "150       1\n",
       "170       1\n",
       "0         1\n",
       "90        1\n",
       "40        1\n",
       "130       1\n",
       "110       1\n",
       "16        1\n",
       "120       1\n",
       "2         1\n",
       "Name: rating_denominator, dtype: int64"
      ]
     },
     "execution_count": 85,
     "metadata": {},
     "output_type": "execute_result"
    }
   ],
   "source": [
    "dogs_archive.rating_denominator.value_counts()"
   ]
  },
  {
   "cell_type": "code",
   "execution_count": 86,
   "id": "c8a5fa85",
   "metadata": {},
   "outputs": [
    {
     "name": "stdout",
     "output_type": "stream",
     "text": [
      "<class 'pandas.core.frame.DataFrame'>\n",
      "RangeIndex: 2354 entries, 0 to 2353\n",
      "Data columns (total 3 columns):\n",
      " #   Column          Non-Null Count  Dtype\n",
      "---  ------          --------------  -----\n",
      " 0   retweet_count   2354 non-null   int64\n",
      " 1   id              2354 non-null   int64\n",
      " 2   favorite_count  2354 non-null   int64\n",
      "dtypes: int64(3)\n",
      "memory usage: 55.3 KB\n"
     ]
    }
   ],
   "source": [
    "#Next, we will take a closer look into the tweets_json dataframe\n",
    "tweets_json.info()"
   ]
  },
  {
   "cell_type": "code",
   "execution_count": 87,
   "id": "9521c206",
   "metadata": {},
   "outputs": [
    {
     "name": "stdout",
     "output_type": "stream",
     "text": [
      "<class 'pandas.core.frame.DataFrame'>\n",
      "RangeIndex: 2075 entries, 0 to 2074\n",
      "Data columns (total 12 columns):\n",
      " #   Column    Non-Null Count  Dtype  \n",
      "---  ------    --------------  -----  \n",
      " 0   tweet_id  2075 non-null   int64  \n",
      " 1   jpg_url   2075 non-null   object \n",
      " 2   img_num   2075 non-null   int64  \n",
      " 3   p1        2075 non-null   object \n",
      " 4   p1_conf   2075 non-null   float64\n",
      " 5   p1_dog    2075 non-null   bool   \n",
      " 6   p2        2075 non-null   object \n",
      " 7   p2_conf   2075 non-null   float64\n",
      " 8   p2_dog    2075 non-null   bool   \n",
      " 9   p3        2075 non-null   object \n",
      " 10  p3_conf   2075 non-null   float64\n",
      " 11  p3_dog    2075 non-null   bool   \n",
      "dtypes: bool(3), float64(3), int64(2), object(4)\n",
      "memory usage: 152.1+ KB\n"
     ]
    }
   ],
   "source": [
    "#Last but not the least, I will also be taking a closer look at 'df_predictions'\n",
    "df_predictions.info()"
   ]
  },
  {
   "cell_type": "code",
   "execution_count": 88,
   "id": "67b5d58c",
   "metadata": {},
   "outputs": [
    {
     "data": {
      "text/plain": [
       "0"
      ]
     },
     "execution_count": 88,
     "metadata": {},
     "output_type": "execute_result"
    }
   ],
   "source": [
    "# Taking a closer look at the table above, its obvious that we could perform a join between it and the dogs_archive dataframe\n",
    "# we would have to screen and see which if all tweet ids present in df_predictions are also present in dogs_archive\n",
    "\n",
    "len(df_predictions[~df_predictions.tweet_id.isin(dogs_archive.tweet_id)])"
   ]
  },
  {
   "cell_type": "code",
   "execution_count": 89,
   "id": "efa6c378",
   "metadata": {},
   "outputs": [
    {
     "data": {
      "text/plain": [
       "281"
      ]
     },
     "execution_count": 89,
     "metadata": {},
     "output_type": "execute_result"
    }
   ],
   "source": [
    "len(dogs_archive[~dogs_archive.tweet_id.isin(df_predictions.tweet_id)])"
   ]
  },
  {
   "cell_type": "markdown",
   "id": "162f397a",
   "metadata": {},
   "source": [
    "Quality related issues in the data frames\n",
    "\n",
    "1. Some of the columns have too many null values, some of the columns contain information that is of no value during assessment, such as the 'in_reply_to_status_id', 'in_reply_to_user_id', 'retweeted_status_id', 'retweeted_status_user_id', 'retweeted_status_timestamp', 'expanded_urls','text' and 'timestamp'. These columns will be dropped.\n",
    "\n",
    "2. Some values in the column 'rating_denominator' are greater than or less than 10, this may be due to some data entry related errors, as such any value less than or greater than ten will be replaced with ten, such that all denominator_rating values will be ten throughout.\n",
    "\n",
    "3. Some values in the column 'rating_numerator' are massively deviated away from the mean, such as the value '1776', such values will be replaced by the mean.\n",
    "\n",
    "4. The archive contains duplicates entries in the form of retweets, those rows should be deleted.\n",
    "\n",
    "5. There is an inequality in terms of the number of tweet id's when compared to the dogs_archive dataframe. I will be deleting the rows of data which are found in the dogs_archive but not in the df_predictions dataframe, in order to have a seamless merge between the two tables.\n",
    "\n",
    "6. The columns titled \"jpg-url\" and \"img-num\" will be deleted as they are inconsiquential in the grand scheme of things, as far as analysis is concerned.\n",
    "\n",
    "7. The column \"Source\" which contains details of the platform from which posters sent in their pictures will be refined and stripped of the unnecessary details in the HTML anchor tag, leaving on the names of the platforms.\n",
    "\n",
    "8. Names such as \"the\", \"an\", \"a\", \"None\" will all be deleted\n",
    "\n",
    "9. Values which are true under P1_dog predictions table will be kept, while false predictions will be deleted.\n",
    "\n",
    "Tidyness issue\n",
    "\n",
    "1. The table dogs_archive will be merged with the JSON.txt table and the engagements table to make it easier to analyse the data\n",
    "\n",
    "2. Numerator_rating and Denominator_rating columns will be combined into a single column, in a fraction form (X/Y). The new column will be called Cuteness_rating, while the Numerator_rating and Denominator_rating columns will be deleted.\n"
   ]
  },
  {
   "cell_type": "markdown",
   "id": "8500eb36",
   "metadata": {},
   "source": [
    "### Step 3: Cleaning the data"
   ]
  },
  {
   "cell_type": "code",
   "execution_count": 90,
   "id": "1044519d",
   "metadata": {},
   "outputs": [],
   "source": [
    "#I start off by making copies of the dataframes\n",
    "\n",
    "dogs_clean = dogs_archive.copy()\n",
    "df_predictions_clean = df_predictions.copy()\n",
    "tweet_engagements = tweets_json.copy()"
   ]
  },
  {
   "cell_type": "markdown",
   "id": "f919203e",
   "metadata": {},
   "source": [
    "### Quality Issue 1: Removing null values in the retweetwd_status_id, retweeted_status_user_id, retweeted_status_timestamp, in_reply_to_status_id and in_reply_to_user_id columns"
   ]
  },
  {
   "cell_type": "code",
   "execution_count": 91,
   "id": "e97892ac",
   "metadata": {},
   "outputs": [],
   "source": [
    "dogs_clean = dogs_clean[~(dogs_clean.retweeted_status_id.notnull())]\n",
    "dogs_clean = dogs_clean[~(dogs_clean.in_reply_to_status_id.notnull())]"
   ]
  },
  {
   "cell_type": "code",
   "execution_count": 92,
   "id": "7ae612ce",
   "metadata": {},
   "outputs": [
    {
     "name": "stdout",
     "output_type": "stream",
     "text": [
      "<class 'pandas.core.frame.DataFrame'>\n",
      "Int64Index: 2097 entries, 0 to 2355\n",
      "Data columns (total 17 columns):\n",
      " #   Column                      Non-Null Count  Dtype  \n",
      "---  ------                      --------------  -----  \n",
      " 0   tweet_id                    2097 non-null   int64  \n",
      " 1   in_reply_to_status_id       0 non-null      float64\n",
      " 2   in_reply_to_user_id         0 non-null      float64\n",
      " 3   timestamp                   2097 non-null   object \n",
      " 4   source                      2097 non-null   object \n",
      " 5   text                        2097 non-null   object \n",
      " 6   retweeted_status_id         0 non-null      float64\n",
      " 7   retweeted_status_user_id    0 non-null      float64\n",
      " 8   retweeted_status_timestamp  0 non-null      object \n",
      " 9   expanded_urls               2094 non-null   object \n",
      " 10  rating_numerator            2097 non-null   int64  \n",
      " 11  rating_denominator          2097 non-null   int64  \n",
      " 12  name                        2097 non-null   object \n",
      " 13  doggo                       2097 non-null   object \n",
      " 14  floofer                     2097 non-null   object \n",
      " 15  pupper                      2097 non-null   object \n",
      " 16  puppo                       2097 non-null   object \n",
      "dtypes: float64(4), int64(3), object(10)\n",
      "memory usage: 294.9+ KB\n"
     ]
    }
   ],
   "source": [
    "dogs_clean.info()"
   ]
  },
  {
   "cell_type": "code",
   "execution_count": 93,
   "id": "3a113fc4",
   "metadata": {},
   "outputs": [],
   "source": [
    "dogs_clean.drop(columns=['retweeted_status_id', 'retweeted_status_user_id', 'retweeted_status_timestamp', 'in_reply_to_status_id', 'in_reply_to_user_id', 'timestamp', 'text'], inplace=True)"
   ]
  },
  {
   "cell_type": "code",
   "execution_count": 94,
   "id": "ff8bf591",
   "metadata": {},
   "outputs": [
    {
     "name": "stdout",
     "output_type": "stream",
     "text": [
      "<class 'pandas.core.frame.DataFrame'>\n",
      "Int64Index: 2097 entries, 0 to 2355\n",
      "Data columns (total 10 columns):\n",
      " #   Column              Non-Null Count  Dtype \n",
      "---  ------              --------------  ----- \n",
      " 0   tweet_id            2097 non-null   int64 \n",
      " 1   source              2097 non-null   object\n",
      " 2   expanded_urls       2094 non-null   object\n",
      " 3   rating_numerator    2097 non-null   int64 \n",
      " 4   rating_denominator  2097 non-null   int64 \n",
      " 5   name                2097 non-null   object\n",
      " 6   doggo               2097 non-null   object\n",
      " 7   floofer             2097 non-null   object\n",
      " 8   pupper              2097 non-null   object\n",
      " 9   puppo               2097 non-null   object\n",
      "dtypes: int64(3), object(7)\n",
      "memory usage: 180.2+ KB\n"
     ]
    }
   ],
   "source": [
    "dogs_clean.info()"
   ]
  },
  {
   "cell_type": "markdown",
   "id": "d9da21c1",
   "metadata": {},
   "source": [
    "### Quality issue 2: Cleaning inconsistencies in values of the column \"rating_denominator\""
   ]
  },
  {
   "cell_type": "code",
   "execution_count": 95,
   "id": "4c389cb6",
   "metadata": {},
   "outputs": [
    {
     "data": {
      "text/html": [
       "<div>\n",
       "<style scoped>\n",
       "    .dataframe tbody tr th:only-of-type {\n",
       "        vertical-align: middle;\n",
       "    }\n",
       "\n",
       "    .dataframe tbody tr th {\n",
       "        vertical-align: top;\n",
       "    }\n",
       "\n",
       "    .dataframe thead th {\n",
       "        text-align: right;\n",
       "    }\n",
       "</style>\n",
       "<table border=\"1\" class=\"dataframe\">\n",
       "  <thead>\n",
       "    <tr style=\"text-align: right;\">\n",
       "      <th></th>\n",
       "      <th>tweet_id</th>\n",
       "      <th>source</th>\n",
       "      <th>expanded_urls</th>\n",
       "      <th>rating_numerator</th>\n",
       "      <th>rating_denominator</th>\n",
       "      <th>name</th>\n",
       "      <th>doggo</th>\n",
       "      <th>floofer</th>\n",
       "      <th>pupper</th>\n",
       "      <th>puppo</th>\n",
       "    </tr>\n",
       "  </thead>\n",
       "  <tbody>\n",
       "    <tr>\n",
       "      <th>516</th>\n",
       "      <td>810984652412424192</td>\n",
       "      <td>&lt;a href=\"http://twitter.com/download/iphone\" r...</td>\n",
       "      <td>https://www.gofundme.com/sams-smile,https://tw...</td>\n",
       "      <td>24</td>\n",
       "      <td>7</td>\n",
       "      <td>Sam</td>\n",
       "      <td>None</td>\n",
       "      <td>None</td>\n",
       "      <td>None</td>\n",
       "      <td>None</td>\n",
       "    </tr>\n",
       "    <tr>\n",
       "      <th>2335</th>\n",
       "      <td>666287406224695296</td>\n",
       "      <td>&lt;a href=\"http://twitter.com/download/iphone\" r...</td>\n",
       "      <td>https://twitter.com/dog_rates/status/666287406...</td>\n",
       "      <td>1</td>\n",
       "      <td>2</td>\n",
       "      <td>an</td>\n",
       "      <td>None</td>\n",
       "      <td>None</td>\n",
       "      <td>None</td>\n",
       "      <td>None</td>\n",
       "    </tr>\n",
       "  </tbody>\n",
       "</table>\n",
       "</div>"
      ],
      "text/plain": [
       "                tweet_id                                             source  \\\n",
       "516   810984652412424192  <a href=\"http://twitter.com/download/iphone\" r...   \n",
       "2335  666287406224695296  <a href=\"http://twitter.com/download/iphone\" r...   \n",
       "\n",
       "                                          expanded_urls  rating_numerator  \\\n",
       "516   https://www.gofundme.com/sams-smile,https://tw...                24   \n",
       "2335  https://twitter.com/dog_rates/status/666287406...                 1   \n",
       "\n",
       "      rating_denominator name doggo floofer pupper puppo  \n",
       "516                    7  Sam  None    None   None  None  \n",
       "2335                   2   an  None    None   None  None  "
      ]
     },
     "execution_count": 95,
     "metadata": {},
     "output_type": "execute_result"
    }
   ],
   "source": [
    "#We will now check for locations where the rating_denominator is less than 10\n",
    "mask = dogs_clean.query('rating_denominator < 10')\n",
    "mask"
   ]
  },
  {
   "cell_type": "code",
   "execution_count": 96,
   "id": "d8bd5731",
   "metadata": {},
   "outputs": [],
   "source": [
    "#lets replace these values in the tibble above generated from our query with the standard value of '10'\n",
    "mask = dogs_clean['rating_denominator'] < 10\n",
    "dogs_clean.loc[mask, 'rating_denominator'] = 10"
   ]
  },
  {
   "cell_type": "code",
   "execution_count": 97,
   "id": "f67351bd",
   "metadata": {},
   "outputs": [
    {
     "data": {
      "text/html": [
       "<div>\n",
       "<style scoped>\n",
       "    .dataframe tbody tr th:only-of-type {\n",
       "        vertical-align: middle;\n",
       "    }\n",
       "\n",
       "    .dataframe tbody tr th {\n",
       "        vertical-align: top;\n",
       "    }\n",
       "\n",
       "    .dataframe thead th {\n",
       "        text-align: right;\n",
       "    }\n",
       "</style>\n",
       "<table border=\"1\" class=\"dataframe\">\n",
       "  <thead>\n",
       "    <tr style=\"text-align: right;\">\n",
       "      <th></th>\n",
       "      <th>tweet_id</th>\n",
       "      <th>source</th>\n",
       "      <th>expanded_urls</th>\n",
       "      <th>rating_numerator</th>\n",
       "      <th>rating_denominator</th>\n",
       "      <th>name</th>\n",
       "      <th>doggo</th>\n",
       "      <th>floofer</th>\n",
       "      <th>pupper</th>\n",
       "      <th>puppo</th>\n",
       "    </tr>\n",
       "  </thead>\n",
       "  <tbody>\n",
       "  </tbody>\n",
       "</table>\n",
       "</div>"
      ],
      "text/plain": [
       "Empty DataFrame\n",
       "Columns: [tweet_id, source, expanded_urls, rating_numerator, rating_denominator, name, doggo, floofer, pupper, puppo]\n",
       "Index: []"
      ]
     },
     "execution_count": 97,
     "metadata": {},
     "output_type": "execute_result"
    }
   ],
   "source": [
    "#lets query the dataframe to assess if the change has been made\n",
    "mask = dogs_clean.query('rating_denominator < 10')\n",
    "mask"
   ]
  },
  {
   "cell_type": "code",
   "execution_count": 98,
   "id": "4e64c347",
   "metadata": {},
   "outputs": [
    {
     "data": {
      "text/html": [
       "<div>\n",
       "<style scoped>\n",
       "    .dataframe tbody tr th:only-of-type {\n",
       "        vertical-align: middle;\n",
       "    }\n",
       "\n",
       "    .dataframe tbody tr th {\n",
       "        vertical-align: top;\n",
       "    }\n",
       "\n",
       "    .dataframe thead th {\n",
       "        text-align: right;\n",
       "    }\n",
       "</style>\n",
       "<table border=\"1\" class=\"dataframe\">\n",
       "  <thead>\n",
       "    <tr style=\"text-align: right;\">\n",
       "      <th></th>\n",
       "      <th>tweet_id</th>\n",
       "      <th>source</th>\n",
       "      <th>expanded_urls</th>\n",
       "      <th>rating_numerator</th>\n",
       "      <th>rating_denominator</th>\n",
       "      <th>name</th>\n",
       "      <th>doggo</th>\n",
       "      <th>floofer</th>\n",
       "      <th>pupper</th>\n",
       "      <th>puppo</th>\n",
       "    </tr>\n",
       "  </thead>\n",
       "  <tbody>\n",
       "    <tr>\n",
       "      <th>433</th>\n",
       "      <td>820690176645140481</td>\n",
       "      <td>&lt;a href=\"http://twitter.com/download/iphone\" r...</td>\n",
       "      <td>https://twitter.com/dog_rates/status/820690176...</td>\n",
       "      <td>84</td>\n",
       "      <td>70</td>\n",
       "      <td>None</td>\n",
       "      <td>None</td>\n",
       "      <td>None</td>\n",
       "      <td>None</td>\n",
       "      <td>None</td>\n",
       "    </tr>\n",
       "    <tr>\n",
       "      <th>902</th>\n",
       "      <td>758467244762497024</td>\n",
       "      <td>&lt;a href=\"http://twitter.com/download/iphone\" r...</td>\n",
       "      <td>https://twitter.com/dog_rates/status/758467244...</td>\n",
       "      <td>165</td>\n",
       "      <td>150</td>\n",
       "      <td>None</td>\n",
       "      <td>None</td>\n",
       "      <td>None</td>\n",
       "      <td>None</td>\n",
       "      <td>None</td>\n",
       "    </tr>\n",
       "    <tr>\n",
       "      <th>1068</th>\n",
       "      <td>740373189193256964</td>\n",
       "      <td>&lt;a href=\"http://twitter.com/download/iphone\" r...</td>\n",
       "      <td>https://twitter.com/dog_rates/status/740373189...</td>\n",
       "      <td>9</td>\n",
       "      <td>11</td>\n",
       "      <td>None</td>\n",
       "      <td>None</td>\n",
       "      <td>None</td>\n",
       "      <td>None</td>\n",
       "      <td>None</td>\n",
       "    </tr>\n",
       "    <tr>\n",
       "      <th>1120</th>\n",
       "      <td>731156023742988288</td>\n",
       "      <td>&lt;a href=\"http://twitter.com/download/iphone\" r...</td>\n",
       "      <td>https://twitter.com/dog_rates/status/731156023...</td>\n",
       "      <td>204</td>\n",
       "      <td>170</td>\n",
       "      <td>this</td>\n",
       "      <td>None</td>\n",
       "      <td>None</td>\n",
       "      <td>None</td>\n",
       "      <td>None</td>\n",
       "    </tr>\n",
       "    <tr>\n",
       "      <th>1165</th>\n",
       "      <td>722974582966214656</td>\n",
       "      <td>&lt;a href=\"http://twitter.com/download/iphone\" r...</td>\n",
       "      <td>https://twitter.com/dog_rates/status/722974582...</td>\n",
       "      <td>4</td>\n",
       "      <td>20</td>\n",
       "      <td>None</td>\n",
       "      <td>None</td>\n",
       "      <td>None</td>\n",
       "      <td>None</td>\n",
       "      <td>None</td>\n",
       "    </tr>\n",
       "    <tr>\n",
       "      <th>1202</th>\n",
       "      <td>716439118184652801</td>\n",
       "      <td>&lt;a href=\"http://twitter.com/download/iphone\" r...</td>\n",
       "      <td>https://twitter.com/dog_rates/status/716439118...</td>\n",
       "      <td>50</td>\n",
       "      <td>50</td>\n",
       "      <td>Bluebert</td>\n",
       "      <td>None</td>\n",
       "      <td>None</td>\n",
       "      <td>None</td>\n",
       "      <td>None</td>\n",
       "    </tr>\n",
       "    <tr>\n",
       "      <th>1228</th>\n",
       "      <td>713900603437621249</td>\n",
       "      <td>&lt;a href=\"http://twitter.com/download/iphone\" r...</td>\n",
       "      <td>https://twitter.com/dog_rates/status/713900603...</td>\n",
       "      <td>99</td>\n",
       "      <td>90</td>\n",
       "      <td>None</td>\n",
       "      <td>None</td>\n",
       "      <td>None</td>\n",
       "      <td>None</td>\n",
       "      <td>None</td>\n",
       "    </tr>\n",
       "    <tr>\n",
       "      <th>1254</th>\n",
       "      <td>710658690886586372</td>\n",
       "      <td>&lt;a href=\"http://twitter.com/download/iphone\" r...</td>\n",
       "      <td>https://twitter.com/dog_rates/status/710658690...</td>\n",
       "      <td>80</td>\n",
       "      <td>80</td>\n",
       "      <td>None</td>\n",
       "      <td>None</td>\n",
       "      <td>None</td>\n",
       "      <td>None</td>\n",
       "      <td>None</td>\n",
       "    </tr>\n",
       "    <tr>\n",
       "      <th>1274</th>\n",
       "      <td>709198395643068416</td>\n",
       "      <td>&lt;a href=\"http://twitter.com/download/iphone\" r...</td>\n",
       "      <td>https://twitter.com/dog_rates/status/709198395...</td>\n",
       "      <td>45</td>\n",
       "      <td>50</td>\n",
       "      <td>None</td>\n",
       "      <td>None</td>\n",
       "      <td>None</td>\n",
       "      <td>None</td>\n",
       "      <td>None</td>\n",
       "    </tr>\n",
       "    <tr>\n",
       "      <th>1351</th>\n",
       "      <td>704054845121142784</td>\n",
       "      <td>&lt;a href=\"http://twitter.com/download/iphone\" r...</td>\n",
       "      <td>https://twitter.com/dog_rates/status/704054845...</td>\n",
       "      <td>60</td>\n",
       "      <td>50</td>\n",
       "      <td>a</td>\n",
       "      <td>None</td>\n",
       "      <td>None</td>\n",
       "      <td>None</td>\n",
       "      <td>None</td>\n",
       "    </tr>\n",
       "    <tr>\n",
       "      <th>1433</th>\n",
       "      <td>697463031882764288</td>\n",
       "      <td>&lt;a href=\"http://twitter.com/download/iphone\" r...</td>\n",
       "      <td>https://twitter.com/dog_rates/status/697463031...</td>\n",
       "      <td>44</td>\n",
       "      <td>40</td>\n",
       "      <td>None</td>\n",
       "      <td>None</td>\n",
       "      <td>None</td>\n",
       "      <td>None</td>\n",
       "      <td>None</td>\n",
       "    </tr>\n",
       "    <tr>\n",
       "      <th>1635</th>\n",
       "      <td>684222868335505415</td>\n",
       "      <td>&lt;a href=\"http://twitter.com/download/iphone\" r...</td>\n",
       "      <td>https://twitter.com/dog_rates/status/684222868...</td>\n",
       "      <td>121</td>\n",
       "      <td>110</td>\n",
       "      <td>None</td>\n",
       "      <td>None</td>\n",
       "      <td>None</td>\n",
       "      <td>None</td>\n",
       "      <td>None</td>\n",
       "    </tr>\n",
       "    <tr>\n",
       "      <th>1662</th>\n",
       "      <td>682962037429899265</td>\n",
       "      <td>&lt;a href=\"http://twitter.com/download/iphone\" r...</td>\n",
       "      <td>https://twitter.com/dog_rates/status/682962037...</td>\n",
       "      <td>7</td>\n",
       "      <td>11</td>\n",
       "      <td>Darrel</td>\n",
       "      <td>None</td>\n",
       "      <td>None</td>\n",
       "      <td>None</td>\n",
       "      <td>None</td>\n",
       "    </tr>\n",
       "    <tr>\n",
       "      <th>1779</th>\n",
       "      <td>677716515794329600</td>\n",
       "      <td>&lt;a href=\"http://twitter.com/download/iphone\" r...</td>\n",
       "      <td>https://twitter.com/dog_rates/status/677716515...</td>\n",
       "      <td>144</td>\n",
       "      <td>120</td>\n",
       "      <td>None</td>\n",
       "      <td>None</td>\n",
       "      <td>None</td>\n",
       "      <td>None</td>\n",
       "      <td>None</td>\n",
       "    </tr>\n",
       "    <tr>\n",
       "      <th>1843</th>\n",
       "      <td>675853064436391936</td>\n",
       "      <td>&lt;a href=\"http://twitter.com/download/iphone\" r...</td>\n",
       "      <td>https://twitter.com/dog_rates/status/675853064...</td>\n",
       "      <td>88</td>\n",
       "      <td>80</td>\n",
       "      <td>None</td>\n",
       "      <td>None</td>\n",
       "      <td>None</td>\n",
       "      <td>None</td>\n",
       "      <td>None</td>\n",
       "    </tr>\n",
       "  </tbody>\n",
       "</table>\n",
       "</div>"
      ],
      "text/plain": [
       "                tweet_id                                             source  \\\n",
       "433   820690176645140481  <a href=\"http://twitter.com/download/iphone\" r...   \n",
       "902   758467244762497024  <a href=\"http://twitter.com/download/iphone\" r...   \n",
       "1068  740373189193256964  <a href=\"http://twitter.com/download/iphone\" r...   \n",
       "1120  731156023742988288  <a href=\"http://twitter.com/download/iphone\" r...   \n",
       "1165  722974582966214656  <a href=\"http://twitter.com/download/iphone\" r...   \n",
       "1202  716439118184652801  <a href=\"http://twitter.com/download/iphone\" r...   \n",
       "1228  713900603437621249  <a href=\"http://twitter.com/download/iphone\" r...   \n",
       "1254  710658690886586372  <a href=\"http://twitter.com/download/iphone\" r...   \n",
       "1274  709198395643068416  <a href=\"http://twitter.com/download/iphone\" r...   \n",
       "1351  704054845121142784  <a href=\"http://twitter.com/download/iphone\" r...   \n",
       "1433  697463031882764288  <a href=\"http://twitter.com/download/iphone\" r...   \n",
       "1635  684222868335505415  <a href=\"http://twitter.com/download/iphone\" r...   \n",
       "1662  682962037429899265  <a href=\"http://twitter.com/download/iphone\" r...   \n",
       "1779  677716515794329600  <a href=\"http://twitter.com/download/iphone\" r...   \n",
       "1843  675853064436391936  <a href=\"http://twitter.com/download/iphone\" r...   \n",
       "\n",
       "                                          expanded_urls  rating_numerator  \\\n",
       "433   https://twitter.com/dog_rates/status/820690176...                84   \n",
       "902   https://twitter.com/dog_rates/status/758467244...               165   \n",
       "1068  https://twitter.com/dog_rates/status/740373189...                 9   \n",
       "1120  https://twitter.com/dog_rates/status/731156023...               204   \n",
       "1165  https://twitter.com/dog_rates/status/722974582...                 4   \n",
       "1202  https://twitter.com/dog_rates/status/716439118...                50   \n",
       "1228  https://twitter.com/dog_rates/status/713900603...                99   \n",
       "1254  https://twitter.com/dog_rates/status/710658690...                80   \n",
       "1274  https://twitter.com/dog_rates/status/709198395...                45   \n",
       "1351  https://twitter.com/dog_rates/status/704054845...                60   \n",
       "1433  https://twitter.com/dog_rates/status/697463031...                44   \n",
       "1635  https://twitter.com/dog_rates/status/684222868...               121   \n",
       "1662  https://twitter.com/dog_rates/status/682962037...                 7   \n",
       "1779  https://twitter.com/dog_rates/status/677716515...               144   \n",
       "1843  https://twitter.com/dog_rates/status/675853064...                88   \n",
       "\n",
       "      rating_denominator      name doggo floofer pupper puppo  \n",
       "433                   70      None  None    None   None  None  \n",
       "902                  150      None  None    None   None  None  \n",
       "1068                  11      None  None    None   None  None  \n",
       "1120                 170      this  None    None   None  None  \n",
       "1165                  20      None  None    None   None  None  \n",
       "1202                  50  Bluebert  None    None   None  None  \n",
       "1228                  90      None  None    None   None  None  \n",
       "1254                  80      None  None    None   None  None  \n",
       "1274                  50      None  None    None   None  None  \n",
       "1351                  50         a  None    None   None  None  \n",
       "1433                  40      None  None    None   None  None  \n",
       "1635                 110      None  None    None   None  None  \n",
       "1662                  11    Darrel  None    None   None  None  \n",
       "1779                 120      None  None    None   None  None  \n",
       "1843                  80      None  None    None   None  None  "
      ]
     },
     "execution_count": 98,
     "metadata": {},
     "output_type": "execute_result"
    }
   ],
   "source": [
    "mask = dogs_clean.query('rating_denominator > 10')\n",
    "mask"
   ]
  },
  {
   "cell_type": "code",
   "execution_count": 99,
   "id": "b19476d7",
   "metadata": {},
   "outputs": [],
   "source": [
    "#we will perform the same operation as earlier by replacing all of these values with 10\n",
    "mask = dogs_clean['rating_denominator'] > 10\n",
    "dogs_clean.loc[mask, 'rating_denominator'] = 10"
   ]
  },
  {
   "cell_type": "markdown",
   "id": "d7f703ca",
   "metadata": {},
   "source": [
    "### Quality Issue 3: Cleaning inconsistencies in the values of \"rating_numerator\""
   ]
  },
  {
   "cell_type": "code",
   "execution_count": 100,
   "id": "5adf361b",
   "metadata": {},
   "outputs": [],
   "source": [
    "#In this next step, we will consider the rating_numerator column, which has alot of outliers, leading to inconsistencies in\n",
    "# the scoring system. I will replace all numerators greater than the mean, by the mean rounded off \n",
    "#to 2 significant figures. i.e 13\n",
    "mask = dogs_clean['rating_numerator'] > 13.126486\n",
    "dogs_clean.loc[mask, 'rating_numerator'] = 13"
   ]
  },
  {
   "cell_type": "code",
   "execution_count": 101,
   "id": "42d7d11d",
   "metadata": {},
   "outputs": [],
   "source": [
    "# In the next step, I will be converting the numerator and denominator into strings, before combining them into fraction form and \n",
    "# loading them into a new column, which I will merge into the dogs_clean dataframe using pandas 'pd.concat'\n",
    "dogs_clean['rating_denominator'] = dogs_clean['rating_denominator'].astype(str)\n",
    "dogs_clean['rating_numerator'] = dogs_clean['rating_numerator'].astype(str)"
   ]
  },
  {
   "cell_type": "markdown",
   "id": "19084276",
   "metadata": {},
   "source": [
    "### Tidyness Issue 1: Combining rating numerator and rating numerator into a single column \"cuteness_rating\" and deleting the former columns"
   ]
  },
  {
   "cell_type": "code",
   "execution_count": 102,
   "id": "74af5159",
   "metadata": {},
   "outputs": [
    {
     "data": {
      "text/html": [
       "<div>\n",
       "<style scoped>\n",
       "    .dataframe tbody tr th:only-of-type {\n",
       "        vertical-align: middle;\n",
       "    }\n",
       "\n",
       "    .dataframe tbody tr th {\n",
       "        vertical-align: top;\n",
       "    }\n",
       "\n",
       "    .dataframe thead th {\n",
       "        text-align: right;\n",
       "    }\n",
       "</style>\n",
       "<table border=\"1\" class=\"dataframe\">\n",
       "  <thead>\n",
       "    <tr style=\"text-align: right;\">\n",
       "      <th></th>\n",
       "      <th>tweet_id</th>\n",
       "      <th>source</th>\n",
       "      <th>expanded_urls</th>\n",
       "      <th>rating_numerator</th>\n",
       "      <th>rating_denominator</th>\n",
       "      <th>name</th>\n",
       "      <th>doggo</th>\n",
       "      <th>floofer</th>\n",
       "      <th>pupper</th>\n",
       "      <th>puppo</th>\n",
       "      <th>cuteness_rating</th>\n",
       "    </tr>\n",
       "  </thead>\n",
       "  <tbody>\n",
       "    <tr>\n",
       "      <th>0</th>\n",
       "      <td>892420643555336193</td>\n",
       "      <td>&lt;a href=\"http://twitter.com/download/iphone\" r...</td>\n",
       "      <td>https://twitter.com/dog_rates/status/892420643...</td>\n",
       "      <td>13</td>\n",
       "      <td>10</td>\n",
       "      <td>Phineas</td>\n",
       "      <td>None</td>\n",
       "      <td>None</td>\n",
       "      <td>None</td>\n",
       "      <td>None</td>\n",
       "      <td>13/10</td>\n",
       "    </tr>\n",
       "    <tr>\n",
       "      <th>1</th>\n",
       "      <td>892177421306343426</td>\n",
       "      <td>&lt;a href=\"http://twitter.com/download/iphone\" r...</td>\n",
       "      <td>https://twitter.com/dog_rates/status/892177421...</td>\n",
       "      <td>13</td>\n",
       "      <td>10</td>\n",
       "      <td>Tilly</td>\n",
       "      <td>None</td>\n",
       "      <td>None</td>\n",
       "      <td>None</td>\n",
       "      <td>None</td>\n",
       "      <td>13/10</td>\n",
       "    </tr>\n",
       "    <tr>\n",
       "      <th>2</th>\n",
       "      <td>891815181378084864</td>\n",
       "      <td>&lt;a href=\"http://twitter.com/download/iphone\" r...</td>\n",
       "      <td>https://twitter.com/dog_rates/status/891815181...</td>\n",
       "      <td>12</td>\n",
       "      <td>10</td>\n",
       "      <td>Archie</td>\n",
       "      <td>None</td>\n",
       "      <td>None</td>\n",
       "      <td>None</td>\n",
       "      <td>None</td>\n",
       "      <td>12/10</td>\n",
       "    </tr>\n",
       "    <tr>\n",
       "      <th>3</th>\n",
       "      <td>891689557279858688</td>\n",
       "      <td>&lt;a href=\"http://twitter.com/download/iphone\" r...</td>\n",
       "      <td>https://twitter.com/dog_rates/status/891689557...</td>\n",
       "      <td>13</td>\n",
       "      <td>10</td>\n",
       "      <td>Darla</td>\n",
       "      <td>None</td>\n",
       "      <td>None</td>\n",
       "      <td>None</td>\n",
       "      <td>None</td>\n",
       "      <td>13/10</td>\n",
       "    </tr>\n",
       "    <tr>\n",
       "      <th>4</th>\n",
       "      <td>891327558926688256</td>\n",
       "      <td>&lt;a href=\"http://twitter.com/download/iphone\" r...</td>\n",
       "      <td>https://twitter.com/dog_rates/status/891327558...</td>\n",
       "      <td>12</td>\n",
       "      <td>10</td>\n",
       "      <td>Franklin</td>\n",
       "      <td>None</td>\n",
       "      <td>None</td>\n",
       "      <td>None</td>\n",
       "      <td>None</td>\n",
       "      <td>12/10</td>\n",
       "    </tr>\n",
       "  </tbody>\n",
       "</table>\n",
       "</div>"
      ],
      "text/plain": [
       "             tweet_id                                             source  \\\n",
       "0  892420643555336193  <a href=\"http://twitter.com/download/iphone\" r...   \n",
       "1  892177421306343426  <a href=\"http://twitter.com/download/iphone\" r...   \n",
       "2  891815181378084864  <a href=\"http://twitter.com/download/iphone\" r...   \n",
       "3  891689557279858688  <a href=\"http://twitter.com/download/iphone\" r...   \n",
       "4  891327558926688256  <a href=\"http://twitter.com/download/iphone\" r...   \n",
       "\n",
       "                                       expanded_urls rating_numerator  \\\n",
       "0  https://twitter.com/dog_rates/status/892420643...               13   \n",
       "1  https://twitter.com/dog_rates/status/892177421...               13   \n",
       "2  https://twitter.com/dog_rates/status/891815181...               12   \n",
       "3  https://twitter.com/dog_rates/status/891689557...               13   \n",
       "4  https://twitter.com/dog_rates/status/891327558...               12   \n",
       "\n",
       "  rating_denominator      name doggo floofer pupper puppo cuteness_rating  \n",
       "0                 10   Phineas  None    None   None  None           13/10  \n",
       "1                 10     Tilly  None    None   None  None           13/10  \n",
       "2                 10    Archie  None    None   None  None           12/10  \n",
       "3                 10     Darla  None    None   None  None           13/10  \n",
       "4                 10  Franklin  None    None   None  None           12/10  "
      ]
     },
     "execution_count": 102,
     "metadata": {},
     "output_type": "execute_result"
    }
   ],
   "source": [
    "# combining numerator and denominator and creat a new column called \"cuteness_rating\"\n",
    "dogs_clean[\"cuteness_rating\"] = dogs_clean[\"rating_numerator\"] + \"/\" + dogs_clean[\"rating_denominator\"]\n",
    "dogs_clean.head()"
   ]
  },
  {
   "cell_type": "code",
   "execution_count": 103,
   "id": "8c60820b",
   "metadata": {},
   "outputs": [],
   "source": [
    "# I will now drop the rating_numerator and rating_denominator columns\n",
    "dogs_clean.drop(columns=['rating_numerator', 'rating_denominator'], inplace=True)"
   ]
  },
  {
   "cell_type": "markdown",
   "id": "3065a540",
   "metadata": {},
   "source": [
    "### Quality issue 4: Extracting the names of the platforms from which posts were made from the HTML anchor tags"
   ]
  },
  {
   "cell_type": "code",
   "execution_count": 104,
   "id": "3b69e38a",
   "metadata": {},
   "outputs": [
    {
     "data": {
      "text/plain": [
       "<a href=\"http://twitter.com/download/iphone\" rel=\"nofollow\">Twitter for iPhone</a>     1964\n",
       "<a href=\"http://vine.co\" rel=\"nofollow\">Vine - Make a Scene</a>                          91\n",
       "<a href=\"http://twitter.com\" rel=\"nofollow\">Twitter Web Client</a>                       31\n",
       "<a href=\"https://about.twitter.com/products/tweetdeck\" rel=\"nofollow\">TweetDeck</a>      11\n",
       "Name: source, dtype: int64"
      ]
     },
     "execution_count": 104,
     "metadata": {},
     "output_type": "execute_result"
    }
   ],
   "source": [
    "#In this next step, I will be cleaning the 'source' column. Right now, the relevant information is enclosed in between the \n",
    "#HTML anchor <a> tags, I will be removing all the links and leaving the information regarding which platform the person is \n",
    "# making a post from\n",
    "\n",
    "dogs_clean.source.value_counts()"
   ]
  },
  {
   "cell_type": "code",
   "execution_count": 105,
   "id": "21f38ba6",
   "metadata": {},
   "outputs": [
    {
     "name": "stderr",
     "output_type": "stream",
     "text": [
      "C:\\Users\\HP\\AppData\\Local\\Temp\\ipykernel_13240\\2469632930.py:2: FutureWarning: The default value of regex will change from True to False in a future version.\n",
      "  dogs_clean.source = dogs_clean.source.str.replace(r'<(?:a\\b[^>]*>|/a>)', '')\n"
     ]
    },
    {
     "data": {
      "text/html": [
       "<div>\n",
       "<style scoped>\n",
       "    .dataframe tbody tr th:only-of-type {\n",
       "        vertical-align: middle;\n",
       "    }\n",
       "\n",
       "    .dataframe tbody tr th {\n",
       "        vertical-align: top;\n",
       "    }\n",
       "\n",
       "    .dataframe thead th {\n",
       "        text-align: right;\n",
       "    }\n",
       "</style>\n",
       "<table border=\"1\" class=\"dataframe\">\n",
       "  <thead>\n",
       "    <tr style=\"text-align: right;\">\n",
       "      <th></th>\n",
       "      <th>tweet_id</th>\n",
       "      <th>source</th>\n",
       "      <th>expanded_urls</th>\n",
       "      <th>name</th>\n",
       "      <th>doggo</th>\n",
       "      <th>floofer</th>\n",
       "      <th>pupper</th>\n",
       "      <th>puppo</th>\n",
       "      <th>cuteness_rating</th>\n",
       "    </tr>\n",
       "  </thead>\n",
       "  <tbody>\n",
       "    <tr>\n",
       "      <th>0</th>\n",
       "      <td>892420643555336193</td>\n",
       "      <td>Twitter for iPhone</td>\n",
       "      <td>https://twitter.com/dog_rates/status/892420643...</td>\n",
       "      <td>Phineas</td>\n",
       "      <td>None</td>\n",
       "      <td>None</td>\n",
       "      <td>None</td>\n",
       "      <td>None</td>\n",
       "      <td>13/10</td>\n",
       "    </tr>\n",
       "    <tr>\n",
       "      <th>1</th>\n",
       "      <td>892177421306343426</td>\n",
       "      <td>Twitter for iPhone</td>\n",
       "      <td>https://twitter.com/dog_rates/status/892177421...</td>\n",
       "      <td>Tilly</td>\n",
       "      <td>None</td>\n",
       "      <td>None</td>\n",
       "      <td>None</td>\n",
       "      <td>None</td>\n",
       "      <td>13/10</td>\n",
       "    </tr>\n",
       "  </tbody>\n",
       "</table>\n",
       "</div>"
      ],
      "text/plain": [
       "             tweet_id              source  \\\n",
       "0  892420643555336193  Twitter for iPhone   \n",
       "1  892177421306343426  Twitter for iPhone   \n",
       "\n",
       "                                       expanded_urls     name doggo floofer  \\\n",
       "0  https://twitter.com/dog_rates/status/892420643...  Phineas  None    None   \n",
       "1  https://twitter.com/dog_rates/status/892177421...    Tilly  None    None   \n",
       "\n",
       "  pupper puppo cuteness_rating  \n",
       "0   None  None           13/10  \n",
       "1   None  None           13/10  "
      ]
     },
     "execution_count": 105,
     "metadata": {},
     "output_type": "execute_result"
    }
   ],
   "source": [
    "#I will now use a regex code to extract the relevant information between the tags\n",
    "dogs_clean.source = dogs_clean.source.str.replace(r'<(?:a\\b[^>]*>|/a>)', '')\n",
    "dogs_clean.head(2)"
   ]
  },
  {
   "cell_type": "code",
   "execution_count": 106,
   "id": "468d9ad4",
   "metadata": {},
   "outputs": [],
   "source": [
    "#Fantastic! the code works, I will now convert the 4 different variables to categorical variables, so that we can \n",
    "#make comparisons between them easily\n",
    "dogs_clean[\"source\"] = dogs_clean[\"source\"].astype(\"category\")"
   ]
  },
  {
   "cell_type": "code",
   "execution_count": 107,
   "id": "e6a04b7f",
   "metadata": {},
   "outputs": [
    {
     "data": {
      "text/html": [
       "<div>\n",
       "<style scoped>\n",
       "    .dataframe tbody tr th:only-of-type {\n",
       "        vertical-align: middle;\n",
       "    }\n",
       "\n",
       "    .dataframe tbody tr th {\n",
       "        vertical-align: top;\n",
       "    }\n",
       "\n",
       "    .dataframe thead th {\n",
       "        text-align: right;\n",
       "    }\n",
       "</style>\n",
       "<table border=\"1\" class=\"dataframe\">\n",
       "  <thead>\n",
       "    <tr style=\"text-align: right;\">\n",
       "      <th></th>\n",
       "      <th>tweet_id</th>\n",
       "      <th>jpg_url</th>\n",
       "      <th>img_num</th>\n",
       "      <th>p1</th>\n",
       "      <th>p1_conf</th>\n",
       "      <th>p1_dog</th>\n",
       "      <th>p2</th>\n",
       "      <th>p2_conf</th>\n",
       "      <th>p2_dog</th>\n",
       "      <th>p3</th>\n",
       "      <th>p3_conf</th>\n",
       "      <th>p3_dog</th>\n",
       "    </tr>\n",
       "  </thead>\n",
       "  <tbody>\n",
       "    <tr>\n",
       "      <th>1246</th>\n",
       "      <td>747594051852075008</td>\n",
       "      <td>https://pbs.twimg.com/media/Cl_80k5WkAEbo9m.jpg</td>\n",
       "      <td>1</td>\n",
       "      <td>basenji</td>\n",
       "      <td>0.389136</td>\n",
       "      <td>True</td>\n",
       "      <td>dingo</td>\n",
       "      <td>0.270226</td>\n",
       "      <td>False</td>\n",
       "      <td>Chihuahua</td>\n",
       "      <td>0.098939</td>\n",
       "      <td>True</td>\n",
       "    </tr>\n",
       "    <tr>\n",
       "      <th>290</th>\n",
       "      <td>671166507850801152</td>\n",
       "      <td>https://pbs.twimg.com/media/CVB2TnWUYAA2pAU.jpg</td>\n",
       "      <td>1</td>\n",
       "      <td>refrigerator</td>\n",
       "      <td>0.829772</td>\n",
       "      <td>False</td>\n",
       "      <td>toilet_seat</td>\n",
       "      <td>0.030083</td>\n",
       "      <td>False</td>\n",
       "      <td>shower_curtain</td>\n",
       "      <td>0.015461</td>\n",
       "      <td>False</td>\n",
       "    </tr>\n",
       "  </tbody>\n",
       "</table>\n",
       "</div>"
      ],
      "text/plain": [
       "                tweet_id                                          jpg_url  \\\n",
       "1246  747594051852075008  https://pbs.twimg.com/media/Cl_80k5WkAEbo9m.jpg   \n",
       "290   671166507850801152  https://pbs.twimg.com/media/CVB2TnWUYAA2pAU.jpg   \n",
       "\n",
       "      img_num            p1   p1_conf  p1_dog           p2   p2_conf  p2_dog  \\\n",
       "1246        1       basenji  0.389136    True        dingo  0.270226   False   \n",
       "290         1  refrigerator  0.829772   False  toilet_seat  0.030083   False   \n",
       "\n",
       "                  p3   p3_conf  p3_dog  \n",
       "1246       Chihuahua  0.098939    True  \n",
       "290   shower_curtain  0.015461   False  "
      ]
     },
     "execution_count": 107,
     "metadata": {},
     "output_type": "execute_result"
    }
   ],
   "source": [
    "#The next step will be cleaning and merging the image predictions table with our dogs_clean table\n",
    "df_predictions_clean.sample(2)"
   ]
  },
  {
   "cell_type": "markdown",
   "id": "a6587a7b",
   "metadata": {},
   "source": [
    "### Quality issue 5: Dropping unnecessary columns"
   ]
  },
  {
   "cell_type": "code",
   "execution_count": 108,
   "id": "30fc1773",
   "metadata": {},
   "outputs": [],
   "source": [
    "df_predictions_clean.drop(columns=['jpg_url', 'img_num', 'p1_conf', 'p2', 'p2_conf', 'p2_dog', 'p3', 'p3_conf', 'p3_dog'], inplace=True)"
   ]
  },
  {
   "cell_type": "code",
   "execution_count": 109,
   "id": "e2c7f1a0",
   "metadata": {},
   "outputs": [
    {
     "name": "stdout",
     "output_type": "stream",
     "text": [
      "<class 'pandas.core.frame.DataFrame'>\n",
      "RangeIndex: 2075 entries, 0 to 2074\n",
      "Data columns (total 3 columns):\n",
      " #   Column    Non-Null Count  Dtype \n",
      "---  ------    --------------  ----- \n",
      " 0   tweet_id  2075 non-null   int64 \n",
      " 1   p1        2075 non-null   object\n",
      " 2   p1_dog    2075 non-null   bool  \n",
      "dtypes: bool(1), int64(1), object(1)\n",
      "memory usage: 34.6+ KB\n"
     ]
    }
   ],
   "source": [
    "df_predictions_clean.info()"
   ]
  },
  {
   "cell_type": "markdown",
   "id": "de72d423",
   "metadata": {},
   "source": [
    "### Tidyness issue 2: Merging all three tables to form one cleaned table"
   ]
  },
  {
   "cell_type": "code",
   "execution_count": 110,
   "id": "93d2ab1f",
   "metadata": {},
   "outputs": [],
   "source": [
    "dogs_clean = dogs_clean.merge(df_predictions_clean, how='left', left_on='tweet_id', right_on='tweet_id')"
   ]
  },
  {
   "cell_type": "code",
   "execution_count": 111,
   "id": "2a61ca8a",
   "metadata": {},
   "outputs": [],
   "source": [
    "#I will now rename the id column of the tweer_engagements dataframe to tweet_id\n",
    "tweet_engagements.rename({'id':'tweet_id'}, axis=1, inplace=True)"
   ]
  },
  {
   "cell_type": "code",
   "execution_count": 112,
   "id": "904e9385",
   "metadata": {},
   "outputs": [],
   "source": [
    "tweet_engagements['favorite_count'] = tweet_engagements.favorite_count.astype('Int64')\n",
    "tweet_engagements['retweet_count'] = tweet_engagements.retweet_count.astype('Int64')"
   ]
  },
  {
   "cell_type": "code",
   "execution_count": 113,
   "id": "4fa4167f",
   "metadata": {},
   "outputs": [],
   "source": [
    "dogs_clean[\"name\"] = dogs_clean[\"name\"].astype(\"category\")"
   ]
  },
  {
   "cell_type": "code",
   "execution_count": 114,
   "id": "3c4c4f75",
   "metadata": {},
   "outputs": [],
   "source": [
    "dogs_clean[\"p1\"] = dogs_clean[\"p1\"].astype(\"category\")"
   ]
  },
  {
   "cell_type": "code",
   "execution_count": 115,
   "id": "8280dbb0",
   "metadata": {},
   "outputs": [],
   "source": [
    "dogs_clean[\"cuteness_rating\"] = dogs_clean[\"cuteness_rating\"].astype(\"category\")"
   ]
  },
  {
   "cell_type": "code",
   "execution_count": 116,
   "id": "6510b520",
   "metadata": {},
   "outputs": [],
   "source": [
    "dogs_clean = dogs_clean.merge(tweet_engagements, how='left', left_on='tweet_id', right_on='tweet_id')\n"
   ]
  },
  {
   "cell_type": "code",
   "execution_count": 117,
   "id": "82ea3693",
   "metadata": {},
   "outputs": [
    {
     "name": "stdout",
     "output_type": "stream",
     "text": [
      "<class 'pandas.core.frame.DataFrame'>\n",
      "Int64Index: 2097 entries, 0 to 2096\n",
      "Data columns (total 13 columns):\n",
      " #   Column           Non-Null Count  Dtype   \n",
      "---  ------           --------------  -----   \n",
      " 0   tweet_id         2097 non-null   int64   \n",
      " 1   source           2097 non-null   category\n",
      " 2   expanded_urls    2094 non-null   object  \n",
      " 3   name             2097 non-null   category\n",
      " 4   doggo            2097 non-null   object  \n",
      " 5   floofer          2097 non-null   object  \n",
      " 6   pupper           2097 non-null   object  \n",
      " 7   puppo            2097 non-null   object  \n",
      " 8   cuteness_rating  2097 non-null   category\n",
      " 9   p1               1971 non-null   category\n",
      " 10  p1_dog           1971 non-null   object  \n",
      " 11  retweet_count    2097 non-null   Int64   \n",
      " 12  favorite_count   2097 non-null   Int64   \n",
      "dtypes: Int64(2), category(4), int64(1), object(6)\n",
      "memory usage: 231.8+ KB\n"
     ]
    }
   ],
   "source": [
    "dogs_clean.info()"
   ]
  },
  {
   "cell_type": "code",
   "execution_count": 118,
   "id": "7419db51",
   "metadata": {},
   "outputs": [],
   "source": [
    "dogs_clean.drop(columns=['expanded_urls'], inplace=True)"
   ]
  },
  {
   "cell_type": "code",
   "execution_count": 119,
   "id": "3057bcaa",
   "metadata": {},
   "outputs": [],
   "source": [
    "dogs_clean.drop(columns=['doggo', 'floofer', 'pupper', 'puppo'], inplace=True)"
   ]
  },
  {
   "cell_type": "code",
   "execution_count": 120,
   "id": "cd274310",
   "metadata": {
    "scrolled": true
   },
   "outputs": [
    {
     "name": "stdout",
     "output_type": "stream",
     "text": [
      "<class 'pandas.core.frame.DataFrame'>\n",
      "Int64Index: 2097 entries, 0 to 2096\n",
      "Data columns (total 8 columns):\n",
      " #   Column           Non-Null Count  Dtype   \n",
      "---  ------           --------------  -----   \n",
      " 0   tweet_id         2097 non-null   int64   \n",
      " 1   source           2097 non-null   category\n",
      " 2   name             2097 non-null   category\n",
      " 3   cuteness_rating  2097 non-null   category\n",
      " 4   p1               1971 non-null   category\n",
      " 5   p1_dog           1971 non-null   object  \n",
      " 6   retweet_count    2097 non-null   Int64   \n",
      " 7   favorite_count   2097 non-null   Int64   \n",
      "dtypes: Int64(2), category(4), int64(1), object(1)\n",
      "memory usage: 149.9+ KB\n"
     ]
    }
   ],
   "source": [
    "dogs_clean.info()"
   ]
  },
  {
   "cell_type": "markdown",
   "id": "e6aa730c",
   "metadata": {},
   "source": [
    "# Quality issue 6: Deleting incorrect names from the data frame"
   ]
  },
  {
   "cell_type": "code",
   "execution_count": 121,
   "id": "212bbd21",
   "metadata": {},
   "outputs": [],
   "source": [
    "incorrect_names = list(dogs_clean.query('name == \"a\" or name == \"an\" or name == \"the\"').index)"
   ]
  },
  {
   "cell_type": "code",
   "execution_count": 122,
   "id": "d2771b1d",
   "metadata": {},
   "outputs": [],
   "source": [
    "for j in incorrect_names:\n",
    "    dogs_clean.name[j] = \"None\""
   ]
  },
  {
   "cell_type": "code",
   "execution_count": 123,
   "id": "2596fd41",
   "metadata": {},
   "outputs": [],
   "source": [
    "dogs_clean = dogs_clean.query('name != \"None\"')"
   ]
  },
  {
   "cell_type": "code",
   "execution_count": 124,
   "id": "d6a6456b",
   "metadata": {},
   "outputs": [
    {
     "name": "stdout",
     "output_type": "stream",
     "text": [
      "<class 'pandas.core.frame.DataFrame'>\n",
      "Int64Index: 1425 entries, 0 to 2067\n",
      "Data columns (total 8 columns):\n",
      " #   Column           Non-Null Count  Dtype   \n",
      "---  ------           --------------  -----   \n",
      " 0   tweet_id         1425 non-null   int64   \n",
      " 1   source           1425 non-null   category\n",
      " 2   name             1425 non-null   category\n",
      " 3   cuteness_rating  1425 non-null   category\n",
      " 4   p1               1379 non-null   category\n",
      " 5   p1_dog           1379 non-null   object  \n",
      " 6   retweet_count    1425 non-null   Int64   \n",
      " 7   favorite_count   1425 non-null   Int64   \n",
      "dtypes: Int64(2), category(4), int64(1), object(1)\n",
      "memory usage: 118.4+ KB\n"
     ]
    }
   ],
   "source": [
    "dogs_clean.info()"
   ]
  },
  {
   "cell_type": "markdown",
   "id": "f5d34d3e",
   "metadata": {},
   "source": [
    "### Quality issue 7: Correcting tweet_id to the correct data type"
   ]
  },
  {
   "cell_type": "code",
   "execution_count": 125,
   "id": "e3227c04",
   "metadata": {},
   "outputs": [],
   "source": [
    "dogs_clean['tweet_id'] = dogs_clean['tweet_id'].astype(str)"
   ]
  },
  {
   "cell_type": "markdown",
   "id": "7b50d528",
   "metadata": {},
   "source": [
    "### Quality issue 8: Deleting columns with false p1_dog ratings "
   ]
  },
  {
   "cell_type": "code",
   "execution_count": 126,
   "id": "d41e0ac7",
   "metadata": {},
   "outputs": [
    {
     "name": "stdout",
     "output_type": "stream",
     "text": [
      "<class 'pandas.core.frame.DataFrame'>\n",
      "Int64Index: 1062 entries, 1 to 2066\n",
      "Data columns (total 8 columns):\n",
      " #   Column           Non-Null Count  Dtype   \n",
      "---  ------           --------------  -----   \n",
      " 0   tweet_id         1062 non-null   object  \n",
      " 1   source           1062 non-null   category\n",
      " 2   name             1062 non-null   category\n",
      " 3   cuteness_rating  1062 non-null   category\n",
      " 4   p1               1062 non-null   category\n",
      " 5   p1_dog           1062 non-null   object  \n",
      " 6   retweet_count    1062 non-null   Int64   \n",
      " 7   favorite_count   1062 non-null   Int64   \n",
      "dtypes: Int64(2), category(4), object(2)\n",
      "memory usage: 101.4+ KB\n"
     ]
    }
   ],
   "source": [
    "# This will help us further scale down the data\n",
    "dogs_clean = dogs_clean.query(\"p1_dog==True\")\n",
    "dogs_clean.info()"
   ]
  },
  {
   "cell_type": "code",
   "execution_count": 127,
   "id": "c2bf0f12",
   "metadata": {},
   "outputs": [],
   "source": [
    "#saving....\n",
    "dogs_clean.to_csv('twitter_archive_master.csv', index = False)"
   ]
  },
  {
   "cell_type": "code",
   "execution_count": 128,
   "id": "375515d9",
   "metadata": {},
   "outputs": [
    {
     "data": {
      "text/plain": [
       "(array([0, 1, 2, 3]),\n",
       " [Text(0, 0, 'TweetDeck'),\n",
       "  Text(1, 0, 'Twitter Web Client'),\n",
       "  Text(2, 0, 'Twitter for iPhone'),\n",
       "  Text(3, 0, 'Vine - Make a Scene')])"
      ]
     },
     "execution_count": 128,
     "metadata": {},
     "output_type": "execute_result"
    },
    {
     "data": {
      "image/png": "[encoded data removed]",
      "text/plain": [
       "<Figure size 360x360 with 1 Axes>"
      ]
     },
     "metadata": {
      "needs_background": "light"
     },
     "output_type": "display_data"
    }
   ],
   "source": [
    "sns.catplot(x =\"source\",\n",
    "kind =\"count\", data = dogs_clean)\n",
    "plt.xticks(rotation=45)"
   ]
  },
  {
   "cell_type": "code",
   "execution_count": 129,
   "id": "48462c6a",
   "metadata": {},
   "outputs": [
    {
     "data": {
      "image/png": "[encoded data removed]",
      "text/plain": [
       "<Figure size 504x504 with 1 Axes>"
      ]
     },
     "metadata": {
      "needs_background": "light"
     },
     "output_type": "display_data"
    }
   ],
   "source": [
    "# top 10 dog breeds.\n",
    "breed_values = dogs_clean.p1.value_counts(ascending=False)\n",
    "breed_values[:10].plot(kind='bar',color='#00acee',figsize=(7,7))\n",
    "plt.title('Top 10 most commonly tweeted dog breeds')\n",
    "plt.ylabel('Number of Tweets')\n",
    "plt.xlabel('Dog Stages');"
   ]
  },
  {
   "cell_type": "code",
   "execution_count": 130,
   "id": "328bbafa",
   "metadata": {},
   "outputs": [
    {
     "data": {
      "image/png": "[encoded data removed]",
      "text/plain": [
       "<Figure size 504x504 with 1 Axes>"
      ]
     },
     "metadata": {
      "needs_background": "light"
     },
     "output_type": "display_data"
    }
   ],
   "source": [
    "# Plot the top 10 dog names.\n",
    "breed_values = dogs_clean.name.value_counts(ascending=False)\n",
    "breed_values[:10].plot(kind='bar',color='#00acee',figsize=(7,7))\n",
    "plt.title('Top 10 most common dog names')\n",
    "plt.ylabel('Number of Tweets')\n",
    "plt.xlabel('name');"
   ]
  },
  {
   "cell_type": "code",
   "execution_count": 131,
   "id": "6e365354",
   "metadata": {},
   "outputs": [
    {
     "data": {
      "image/png": "[encoded data removed]",
      "text/plain": [
       "<Figure size 504x504 with 1 Axes>"
      ]
     },
     "metadata": {
      "needs_background": "light"
     },
     "output_type": "display_data"
    }
   ],
   "source": [
    "rating_values = dogs_clean.cuteness_rating.value_counts(ascending=False)\n",
    "rating_values.plot(kind='bar',color='#00acee',figsize=(7,7))\n",
    "plt.title('Most common dog ratings')\n",
    "plt.xlabel('Dog ratings');"
   ]
  },
  {
   "cell_type": "code",
   "execution_count": null,
   "id": "9a3ba0b3",
   "metadata": {},
   "outputs": [],
   "source": []
  }
 ],
 "metadata": {
  "kernelspec": {
   "display_name": "Python 3 (ipykernel)",
   "language": "python",
   "name": "python3"
  },
  "language_info": {
   "codemirror_mode": {
    "name": "ipython",
    "version": 3
   },
   "file_extension": ".py",
   "mimetype": "text/x-python",
   "name": "python",
   "nbconvert_exporter": "python",
   "pygments_lexer": "ipython3",
   "version": "3.9.12"
  }
 },
 "nbformat": 4,
 "nbformat_minor": 5
}
